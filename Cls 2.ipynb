{
 "cells": [
  {
   "cell_type": "markdown",
   "id": "a46030ff",
   "metadata": {},
   "source": [
    "# Second Class Progress"
   ]
  },
  {
   "cell_type": "markdown",
   "id": "5509a700",
   "metadata": {},
   "source": [
    "### Numerical Operations on Numpy Arrays "
   ]
  },
  {
   "cell_type": "code",
   "execution_count": 2,
   "id": "4261b679",
   "metadata": {},
   "outputs": [
    {
     "name": "stdout",
     "output_type": "stream",
     "text": [
      "[ 4.    5.    9.9   5.3   8.9   2.11 12.3  14.9 ]\n"
     ]
    }
   ],
   "source": [
    "import numpy as np\n",
    "lst = [2,3, 7.9, 3.3, 6.9, 0.11, 10.3, 12.9]\n",
    "v = np.array(lst) \n",
    "v = v + 2\n",
    "print(v)"
   ]
  },
  {
   "cell_type": "markdown",
   "id": "17b35303",
   "metadata": {},
   "source": [
    "### Arithmetic operations with two arrays"
   ]
  },
  {
   "cell_type": "code",
   "execution_count": 12,
   "id": "3213e4d9",
   "metadata": {},
   "outputs": [
    {
     "name": "stdout",
     "output_type": "stream",
     "text": [
      "Array created by ones: \n",
      "[[1 1 1]\n",
      " [1 1 1]\n",
      " [1 1 1]]\n",
      "\n",
      " Adding to arrays: \n",
      "[[12 13 14]\n",
      " [22 23 24]\n",
      " [32 33 34]]\n",
      "\n",
      " Multiplying two arrays: \n",
      "[[11 12 13]\n",
      " [21 22 23]\n",
      " [31 32 33]]\n"
     ]
    }
   ],
   "source": [
    "import numpy as np\n",
    "A = np.array([ [11, 12, 13], [21, 22, 23], [31, 32, 33] ])\n",
    "B = np.ones((3,3), dtype = int)\n",
    "print(\"Array created by ones: \")\n",
    "print(B)\n",
    "print(\"\\n Adding to arrays: \")\n",
    "print(A + B)\n",
    "print(\"\\n Multiplying two arrays: \")\n",
    "print(A * B)"
   ]
  },
  {
   "cell_type": "markdown",
   "id": "87e951aa",
   "metadata": {},
   "source": [
    "### Matrix Multiplication"
   ]
  },
  {
   "cell_type": "markdown",
   "id": "a3d985b3",
   "metadata": {},
   "source": [
    "For this purpose, we can use the dot product. Using the previous arrays, we can calculate the matrix\n",
    "multiplication:\n",
    "np.dot(A, B)"
   ]
  },
  {
   "cell_type": "markdown",
   "id": "ea228e60",
   "metadata": {},
   "source": [
    "![title](dot.PNG)"
   ]
  },
  {
   "cell_type": "code",
   "execution_count": 16,
   "id": "668d4acf",
   "metadata": {},
   "outputs": [
    {
     "name": "stdout",
     "output_type": "stream",
     "text": [
      "27\n",
      "1\n",
      "21\n",
      "-34\n"
     ]
    }
   ],
   "source": [
    "print(np.dot(3, 9))\n",
    "x = np.array([3])\n",
    "y = np.array([7])\n",
    "print(x.ndim)\n",
    "print(np.dot(x, y))\n",
    "x = np.array([8, -2])\n",
    "y = np.array([-4, 1])\n",
    "print(np.dot(x, y))"
   ]
  },
  {
   "cell_type": "markdown",
   "id": "f37f2baa",
   "metadata": {},
   "source": [
    "Let's go to the two-dimensional use case:"
   ]
  },
  {
   "cell_type": "code",
   "execution_count": 17,
   "id": "78834f9d",
   "metadata": {},
   "outputs": [
    {
     "name": "stdout",
     "output_type": "stream",
     "text": [
      "True 3\n",
      "[[ 7  7 17  4]\n",
      " [ 9  9 19  0]]\n"
     ]
    }
   ],
   "source": [
    "A = np.array([ [1, 2, 3],[3, 2, 1] ])\n",
    "B = np.array([ [2, 3, 4, -2], [1, -1, 2, 3], [1, 2, 3, 0] ])\n",
    "# es muss gelten:\n",
    "print(A.shape[-1] == B.shape[-2], A.shape[1])\n",
    "print(np.dot(A, B))"
   ]
  },
  {
   "cell_type": "markdown",
   "id": "3c31fac9",
   "metadata": {},
   "source": [
    "### Cocatenating, Flattening and Adding Dimensions "
   ]
  },
  {
   "cell_type": "code",
   "execution_count": 20,
   "id": "d0dc0db1",
   "metadata": {},
   "outputs": [
    {
     "name": "stdout",
     "output_type": "stream",
     "text": [
      "[ 0  1  2  3  4  5  6  7  8  9 10 11 12 13 14 15 16 17 18 19 20 21 22 23]\n",
      "[ 0  1  2  3  4  5  6  7  8  9 10 11 12 13 14 15 16 17 18 19 20 21 22 23]\n",
      "[ 0  8 16  2 10 18  4 12 20  6 14 22  1  9 17  3 11 19  5 13 21  7 15 23]\n",
      "[ 0  1  2  3  4  5  6  7  8  9 10 11 12 13 14 15 16 17 18 19 20 21 22 23]\n"
     ]
    }
   ],
   "source": [
    "#flatten\n",
    "import numpy as np\n",
    "A = np.array([[[ 0, 1],\n",
    "[ 2, 3],\n",
    "[ 4, 5],\n",
    "[ 6, 7]],\n",
    "[[ 8, 9],\n",
    "[10, 11],\n",
    "[12, 13],\n",
    "[14, 15]],\n",
    "[[16, 17],\n",
    "[18, 19],\n",
    "[20, 21],\n",
    "[22, 23]]])\n",
    "Flattened_X = A.flatten()\n",
    "print(Flattened_X)\n",
    "print(A.flatten(order=\"C\"))\n",
    "print(A.flatten(order=\"F\"))\n",
    "print(A.flatten(order=\"A\"))"
   ]
  },
  {
   "cell_type": "code",
   "execution_count": 21,
   "id": "7daca270",
   "metadata": {},
   "outputs": [
    {
     "name": "stdout",
     "output_type": "stream",
     "text": [
      "[ 0  1  2  3  4  5  6  7  8  9 10 11 12 13 14 15 16 17 18 19 20 21 22 23]\n",
      "[ 0  1  2  3  4  5  6  7  8  9 10 11 12 13 14 15 16 17 18 19 20 21 22 23]\n",
      "[ 0  8 16  2 10 18  4 12 20  6 14 22  1  9 17  3 11 19  5 13 21  7 15 23]\n",
      "[ 0  1  2  3  4  5  6  7  8  9 10 11 12 13 14 15 16 17 18 19 20 21 22 23]\n",
      "[ 0  1  2  3  4  5  6  7  8  9 10 11 12 13 14 15 16 17 18 19 20 21 22 23]\n"
     ]
    }
   ],
   "source": [
    "#ravel\n",
    "print(A.ravel())\n",
    "print(A.ravel(order=\"A\"))\n",
    "print(A.ravel(order=\"F\"))\n",
    "print(A.ravel(order=\"A\"))\n",
    "print(A.ravel(order=\"K\"))"
   ]
  },
  {
   "cell_type": "markdown",
   "id": "873a5164",
   "metadata": {},
   "source": [
    "#### Reshape"
   ]
  },
  {
   "cell_type": "markdown",
   "id": "ed7f0df7",
   "metadata": {},
   "source": [
    "![title](reshape.png)"
   ]
  },
  {
   "cell_type": "code",
   "execution_count": 25,
   "id": "0d45cbb0",
   "metadata": {},
   "outputs": [
    {
     "name": "stdout",
     "output_type": "stream",
     "text": [
      "[ 0  1  2  3  4  5  6  7  8  9 10 11 12 13 14 15 16 17 18 19 20 21 22 23]\n"
     ]
    },
    {
     "data": {
      "text/plain": [
       "array([[[ 0,  1],\n",
       "        [ 2,  3],\n",
       "        [ 4,  5],\n",
       "        [ 6,  7]],\n",
       "\n",
       "       [[ 8,  9],\n",
       "        [10, 11],\n",
       "        [12, 13],\n",
       "        [14, 15]],\n",
       "\n",
       "       [[16, 17],\n",
       "        [18, 19],\n",
       "        [20, 21],\n",
       "        [22, 23]]])"
      ]
     },
     "execution_count": 25,
     "metadata": {},
     "output_type": "execute_result"
    }
   ],
   "source": [
    "X = np.array(range(24))\n",
    "Y = X.reshape((3,4,2))\n",
    "print(X)\n",
    "Y"
   ]
  },
  {
   "cell_type": "markdown",
   "id": "3aaff86c",
   "metadata": {},
   "source": [
    "#### Concatenate"
   ]
  },
  {
   "cell_type": "code",
   "execution_count": 27,
   "id": "cac34be1",
   "metadata": {},
   "outputs": [
    {
     "name": "stdout",
     "output_type": "stream",
     "text": [
      "[11 22 18  7  6  9  1  3  5]\n"
     ]
    }
   ],
   "source": [
    "x = np.array([11,22])\n",
    "y = np.array([18,7,6,9])\n",
    "z = np.array([1,3,5])\n",
    "c = np.concatenate((x,y,z))\n",
    "print(c)"
   ]
  },
  {
   "cell_type": "markdown",
   "id": "92f8bc85",
   "metadata": {},
   "source": [
    "#### Adding New Dimension"
   ]
  },
  {
   "cell_type": "markdown",
   "id": "fcd7eae8",
   "metadata": {},
   "source": [
    "New dimensions can be added to an array by using slicing and np.newaxis."
   ]
  },
  {
   "cell_type": "code",
   "execution_count": 35,
   "id": "827cf089",
   "metadata": {},
   "outputs": [
    {
     "name": "stdout",
     "output_type": "stream",
     "text": [
      "[ 2  5 18 14  4]\n",
      "(5,)\n",
      "[[ 2]\n",
      " [ 5]\n",
      " [18]\n",
      " [14]\n",
      " [ 4]]\n"
     ]
    },
    {
     "data": {
      "text/plain": [
       "(5, 1)"
      ]
     },
     "execution_count": 35,
     "metadata": {},
     "output_type": "execute_result"
    }
   ],
   "source": [
    "x = np.array([2,5,18,14,4])\n",
    "print(x)\n",
    "print(np.shape(x))\n",
    "y = x[:, np.newaxis]\n",
    "print(y)\n",
    "np.shape(y)"
   ]
  },
  {
   "cell_type": "markdown",
   "id": "00655daa",
   "metadata": {},
   "source": [
    "## Random Numbers & Probability"
   ]
  },
  {
   "cell_type": "code",
   "execution_count": 37,
   "id": "8de47690",
   "metadata": {},
   "outputs": [
    {
     "name": "stdout",
     "output_type": "stream",
     "text": [
      "0.502986395735698\n"
     ]
    }
   ],
   "source": [
    "import random\n",
    "random_number = random.random()\n",
    "print(random_number)"
   ]
  },
  {
   "cell_type": "code",
   "execution_count": 38,
   "id": "5bef2d84",
   "metadata": {},
   "outputs": [
    {
     "name": "stdout",
     "output_type": "stream",
     "text": [
      "0.26153151201872915\n"
     ]
    }
   ],
   "source": [
    "from random import SystemRandom\n",
    "crypto = SystemRandom()\n",
    "print(crypto.random())"
   ]
  },
  {
   "cell_type": "markdown",
   "id": "75f4cce9",
   "metadata": {},
   "source": [
    "Generating a list of random numbers"
   ]
  },
  {
   "cell_type": "code",
   "execution_count": 41,
   "id": "e8b2ef5b",
   "metadata": {},
   "outputs": [
    {
     "name": "stdout",
     "output_type": "stream",
     "text": [
      "[0.7655377543874983, 0.16022042853077412, 0.39930821152379636, 0.25604854014684575, 0.3925445750379003, 0.862034352355744, 0.9837772553440887, 0.43395948148855634, 0.6281780179363943, 0.6923263384119206]\n"
     ]
    }
   ],
   "source": [
    "import random\n",
    "def random_list(n, secure=True):\n",
    "    random_floats = []\n",
    "    if secure:\n",
    "        crypto = random.SystemRandom()\n",
    "        random_float = crypto.random\n",
    "    else:\n",
    "        random_float = random.random\n",
    "    for _ in range(n):\n",
    "        random_floats.append(random_float())\n",
    "    return random_floats\n",
    "print(random_list(10, secure=False))"
   ]
  },
  {
   "cell_type": "code",
   "execution_count": 44,
   "id": "7564e080",
   "metadata": {},
   "outputs": [
    {
     "name": "stdout",
     "output_type": "stream",
     "text": [
      "[0.9508282  0.7316664  0.62954127 0.83195931 0.18762141 0.43723985\n",
      " 0.91028638 0.53289942 0.51722794 0.78790742]\n"
     ]
    }
   ],
   "source": [
    "import numpy as np\n",
    "RD=np.random.random(10)\n",
    "print(RD)"
   ]
  },
  {
   "cell_type": "code",
   "execution_count": 57,
   "id": "118fb13e",
   "metadata": {},
   "outputs": [
    {
     "name": "stdout",
     "output_type": "stream",
     "text": [
      "6\n"
     ]
    }
   ],
   "source": [
    "# Random Integer Numbers\n",
    "import random\n",
    "outcome = random.randint(1,10)\n",
    "print(outcome)"
   ]
  },
  {
   "cell_type": "code",
   "execution_count": 54,
   "id": "60d7715a",
   "metadata": {},
   "outputs": [
    {
     "name": "stdout",
     "output_type": "stream",
     "text": [
      "[6 4 4 0 0 0 0 6 1 2]\n"
     ]
    }
   ],
   "source": [
    "import numpy as np\n",
    "outcome = np.random.randint( 8, size=10)\n",
    "print(outcome)"
   ]
  },
  {
   "cell_type": "code",
   "execution_count": 58,
   "id": "f796edea",
   "metadata": {},
   "outputs": [
    {
     "data": {
      "text/plain": [
       "[4, 1, 3, 6, 4, 6, 4, 3, 6, 4]"
      ]
     },
     "execution_count": 58,
     "metadata": {},
     "output_type": "execute_result"
    }
   ],
   "source": [
    "import random\n",
    "crypto = random.SystemRandom()\n",
    "[ crypto.randint(1, 6) for _ in range(10) ]"
   ]
  },
  {
   "cell_type": "code",
   "execution_count": null,
   "id": "6309107c",
   "metadata": {},
   "outputs": [],
   "source": []
  }
 ],
 "metadata": {
  "kernelspec": {
   "display_name": "Python 3 (ipykernel)",
   "language": "python",
   "name": "python3"
  },
  "language_info": {
   "codemirror_mode": {
    "name": "ipython",
    "version": 3
   },
   "file_extension": ".py",
   "mimetype": "text/x-python",
   "name": "python",
   "nbconvert_exporter": "python",
   "pygments_lexer": "ipython3",
   "version": "3.10.9"
  }
 },
 "nbformat": 4,
 "nbformat_minor": 5
}
