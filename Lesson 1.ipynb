{
 "cells": [
  {
   "cell_type": "markdown",
   "id": "e6774187",
   "metadata": {},
   "source": [
    "# Data Analysis with ChatGPT"
   ]
  },
  {
   "cell_type": "code",
   "execution_count": 10,
   "id": "bc56af33",
   "metadata": {},
   "outputs": [],
   "source": [
    "import pandas as pd\n",
    "import numpy as np"
   ]
  },
  {
   "cell_type": "code",
   "execution_count": 24,
   "id": "f29490a7",
   "metadata": {},
   "outputs": [
    {
     "data": {
      "text/html": [
       "<div>\n",
       "<style scoped>\n",
       "    .dataframe tbody tr th:only-of-type {\n",
       "        vertical-align: middle;\n",
       "    }\n",
       "\n",
       "    .dataframe tbody tr th {\n",
       "        vertical-align: top;\n",
       "    }\n",
       "\n",
       "    .dataframe thead th {\n",
       "        text-align: right;\n",
       "    }\n",
       "</style>\n",
       "<table border=\"1\" class=\"dataframe\">\n",
       "  <thead>\n",
       "    <tr style=\"text-align: right;\">\n",
       "      <th></th>\n",
       "      <th>Item</th>\n",
       "      <th>Delivery location</th>\n",
       "      <th>Order Date</th>\n",
       "    </tr>\n",
       "  </thead>\n",
       "  <tbody>\n",
       "    <tr>\n",
       "      <th>0</th>\n",
       "      <td>Anker 737 Power Bank</td>\n",
       "      <td>Nairobi</td>\n",
       "      <td>03/19/19 08:46</td>\n",
       "    </tr>\n",
       "    <tr>\n",
       "      <th>1</th>\n",
       "      <td>Anker 737 Power Bank</td>\n",
       "      <td>Meru</td>\n",
       "      <td>01/07/2019 22:30</td>\n",
       "    </tr>\n",
       "    <tr>\n",
       "      <th>2</th>\n",
       "      <td>Anker 737 Power Bank</td>\n",
       "      <td>Mombasa</td>\n",
       "      <td>04/07/2019 22:30</td>\n",
       "    </tr>\n",
       "    <tr>\n",
       "      <th>3</th>\n",
       "      <td>Apple AirTags</td>\n",
       "      <td>Kisumu</td>\n",
       "      <td>07/12/2019 14:38</td>\n",
       "    </tr>\n",
       "    <tr>\n",
       "      <th>4</th>\n",
       "      <td>Apple Watch</td>\n",
       "      <td>Nakuru</td>\n",
       "      <td>06/12/2019 14:38</td>\n",
       "    </tr>\n",
       "  </tbody>\n",
       "</table>\n",
       "</div>"
      ],
      "text/plain": [
       "                   Item Delivery location        Order Date\n",
       "0  Anker 737 Power Bank           Nairobi    03/19/19 08:46\n",
       "1  Anker 737 Power Bank              Meru  01/07/2019 22:30\n",
       "2  Anker 737 Power Bank           Mombasa  04/07/2019 22:30\n",
       "3         Apple AirTags            Kisumu  07/12/2019 14:38\n",
       "4           Apple Watch            Nakuru  06/12/2019 14:38"
      ]
     },
     "execution_count": 24,
     "metadata": {},
     "output_type": "execute_result"
    }
   ],
   "source": [
    "#read data file\n",
    "sdata = pd.read_csv(\"Data.csv\",  encoding= 'unicode_escape')\n",
    "sdata.head()\n"
   ]
  },
  {
   "cell_type": "code",
   "execution_count": 26,
   "id": "6f1e1f50",
   "metadata": {},
   "outputs": [],
   "source": [
    "#convert the date column to datetime object\n",
    "sdata['Order Date'] = pd.to_datetime(sdata['Order Date'])"
   ]
  },
  {
   "cell_type": "code",
   "execution_count": 27,
   "id": "97fcd577",
   "metadata": {},
   "outputs": [
    {
     "data": {
      "text/html": [
       "<div>\n",
       "<style scoped>\n",
       "    .dataframe tbody tr th:only-of-type {\n",
       "        vertical-align: middle;\n",
       "    }\n",
       "\n",
       "    .dataframe tbody tr th {\n",
       "        vertical-align: top;\n",
       "    }\n",
       "\n",
       "    .dataframe thead th {\n",
       "        text-align: right;\n",
       "    }\n",
       "</style>\n",
       "<table border=\"1\" class=\"dataframe\">\n",
       "  <thead>\n",
       "    <tr style=\"text-align: right;\">\n",
       "      <th></th>\n",
       "      <th>Item</th>\n",
       "      <th>Delivery location</th>\n",
       "      <th>Order Date</th>\n",
       "    </tr>\n",
       "  </thead>\n",
       "  <tbody>\n",
       "    <tr>\n",
       "      <th>0</th>\n",
       "      <td>Anker 737 Power Bank</td>\n",
       "      <td>Nairobi</td>\n",
       "      <td>2019-03-19 08:46:00</td>\n",
       "    </tr>\n",
       "    <tr>\n",
       "      <th>1</th>\n",
       "      <td>Anker 737 Power Bank</td>\n",
       "      <td>Meru</td>\n",
       "      <td>2019-01-07 22:30:00</td>\n",
       "    </tr>\n",
       "    <tr>\n",
       "      <th>2</th>\n",
       "      <td>Anker 737 Power Bank</td>\n",
       "      <td>Mombasa</td>\n",
       "      <td>2019-04-07 22:30:00</td>\n",
       "    </tr>\n",
       "    <tr>\n",
       "      <th>3</th>\n",
       "      <td>Apple AirTags</td>\n",
       "      <td>Kisumu</td>\n",
       "      <td>2019-07-12 14:38:00</td>\n",
       "    </tr>\n",
       "    <tr>\n",
       "      <th>4</th>\n",
       "      <td>Apple Watch</td>\n",
       "      <td>Nakuru</td>\n",
       "      <td>2019-06-12 14:38:00</td>\n",
       "    </tr>\n",
       "  </tbody>\n",
       "</table>\n",
       "</div>"
      ],
      "text/plain": [
       "                   Item Delivery location          Order Date\n",
       "0  Anker 737 Power Bank           Nairobi 2019-03-19 08:46:00\n",
       "1  Anker 737 Power Bank              Meru 2019-01-07 22:30:00\n",
       "2  Anker 737 Power Bank           Mombasa 2019-04-07 22:30:00\n",
       "3         Apple AirTags            Kisumu 2019-07-12 14:38:00\n",
       "4           Apple Watch            Nakuru 2019-06-12 14:38:00"
      ]
     },
     "execution_count": 27,
     "metadata": {},
     "output_type": "execute_result"
    }
   ],
   "source": [
    "sdata.head()"
   ]
  },
  {
   "cell_type": "code",
   "execution_count": 28,
   "id": "5742189a",
   "metadata": {},
   "outputs": [],
   "source": [
    "#Extract Month from the datetime object\n",
    "sdata['Month']= sdata['Order Date'].dt.month"
   ]
  },
  {
   "cell_type": "code",
   "execution_count": 29,
   "id": "ee9cfb6a",
   "metadata": {},
   "outputs": [
    {
     "data": {
      "text/html": [
       "<div>\n",
       "<style scoped>\n",
       "    .dataframe tbody tr th:only-of-type {\n",
       "        vertical-align: middle;\n",
       "    }\n",
       "\n",
       "    .dataframe tbody tr th {\n",
       "        vertical-align: top;\n",
       "    }\n",
       "\n",
       "    .dataframe thead th {\n",
       "        text-align: right;\n",
       "    }\n",
       "</style>\n",
       "<table border=\"1\" class=\"dataframe\">\n",
       "  <thead>\n",
       "    <tr style=\"text-align: right;\">\n",
       "      <th></th>\n",
       "      <th>Item</th>\n",
       "      <th>Delivery location</th>\n",
       "      <th>Order Date</th>\n",
       "      <th>Month</th>\n",
       "    </tr>\n",
       "  </thead>\n",
       "  <tbody>\n",
       "    <tr>\n",
       "      <th>0</th>\n",
       "      <td>Anker 737 Power Bank</td>\n",
       "      <td>Nairobi</td>\n",
       "      <td>2019-03-19 08:46:00</td>\n",
       "      <td>3</td>\n",
       "    </tr>\n",
       "    <tr>\n",
       "      <th>1</th>\n",
       "      <td>Anker 737 Power Bank</td>\n",
       "      <td>Meru</td>\n",
       "      <td>2019-01-07 22:30:00</td>\n",
       "      <td>1</td>\n",
       "    </tr>\n",
       "    <tr>\n",
       "      <th>2</th>\n",
       "      <td>Anker 737 Power Bank</td>\n",
       "      <td>Mombasa</td>\n",
       "      <td>2019-04-07 22:30:00</td>\n",
       "      <td>4</td>\n",
       "    </tr>\n",
       "    <tr>\n",
       "      <th>3</th>\n",
       "      <td>Apple AirTags</td>\n",
       "      <td>Kisumu</td>\n",
       "      <td>2019-07-12 14:38:00</td>\n",
       "      <td>7</td>\n",
       "    </tr>\n",
       "    <tr>\n",
       "      <th>4</th>\n",
       "      <td>Apple Watch</td>\n",
       "      <td>Nakuru</td>\n",
       "      <td>2019-06-12 14:38:00</td>\n",
       "      <td>6</td>\n",
       "    </tr>\n",
       "  </tbody>\n",
       "</table>\n",
       "</div>"
      ],
      "text/plain": [
       "                   Item Delivery location          Order Date  Month\n",
       "0  Anker 737 Power Bank           Nairobi 2019-03-19 08:46:00      3\n",
       "1  Anker 737 Power Bank              Meru 2019-01-07 22:30:00      1\n",
       "2  Anker 737 Power Bank           Mombasa 2019-04-07 22:30:00      4\n",
       "3         Apple AirTags            Kisumu 2019-07-12 14:38:00      7\n",
       "4           Apple Watch            Nakuru 2019-06-12 14:38:00      6"
      ]
     },
     "execution_count": 29,
     "metadata": {},
     "output_type": "execute_result"
    }
   ],
   "source": [
    "sdata.head()"
   ]
  },
  {
   "cell_type": "code",
   "execution_count": 34,
   "id": "32ddb819",
   "metadata": {},
   "outputs": [],
   "source": [
    "#write the updated dataframe to a new csv file\n",
    "sdata.to_csv('Data.cvs', index=False)"
   ]
  },
  {
   "cell_type": "code",
   "execution_count": 35,
   "id": "d4e9da88",
   "metadata": {},
   "outputs": [],
   "source": [
    "months = sdata.groupby('Month')"
   ]
  },
  {
   "cell_type": "code",
   "execution_count": 41,
   "id": "2118ea73",
   "metadata": {},
   "outputs": [
    {
     "data": {
      "image/png": "[encoded data removed]",
      "text/plain": [
       "<Figure size 640x480 with 1 Axes>"
      ]
     },
     "metadata": {},
     "output_type": "display_data"
    }
   ],
   "source": [
    "import matplotlib.pyplot as plt\n",
    "items = sdata['Item']\n",
    "months = sdata['Month']\n",
    "plt.plot(months, items)\n",
    "plt.show()"
   ]
  },
  {
   "cell_type": "code",
   "execution_count": 37,
   "id": "fc3ea0d6",
   "metadata": {},
   "outputs": [
    {
     "name": "stdout",
     "output_type": "stream",
     "text": [
      "City\n",
      "Portland    55000.0\n",
      "Seattle     58000.0\n",
      "Name: Salary, dtype: float64\n"
     ]
    }
   ],
   "source": [
    "import pandas as pd\n",
    "\n",
    "# Create a sample DataFrame\n",
    "data = pd.DataFrame({\n",
    "    'Name': ['Alice', 'Bob', 'Charlie', 'David', 'Emma', 'Fred', 'Gina', 'Hank', 'Ivy'],\n",
    "    'City': ['Seattle', 'Portland', 'Seattle', 'Portland', 'Seattle', 'Portland', 'Seattle', 'Portland', 'Seattle'],\n",
    "    'Salary': [50000, 60000, 55000, 65000, 70000, 45000, 55000, 50000, 60000]\n",
    "})\n",
    "\n",
    "# Group the DataFrame by 'City'\n",
    "grouped_data = data.groupby('City')\n",
    "\n",
    "# Compute the mean salary for each group\n",
    "mean_salary = grouped_data['Salary'].mean()\n",
    "\n",
    "# Print the mean salary for each group\n",
    "print(mean_salary)"
   ]
  },
  {
   "cell_type": "code",
   "execution_count": 5,
   "id": "b5ae2ae7",
   "metadata": {},
   "outputs": [
    {
     "name": "stdout",
     "output_type": "stream",
     "text": [
      "    A   B   C   D\n",
      "0  A0  B0  C0  D0\n",
      "1  A1  B1  C1  D1\n",
      "2  A2  B2  C2  D2\n",
      "3  A3  B3  C3  D3\n",
      "0  A4  B4  C4  D4\n",
      "1  A5  B5  C5  D5\n",
      "2  A6  B6  C6  D6\n",
      "3  A7  B7  C7  D7\n"
     ]
    }
   ],
   "source": [
    "import pandas as pd\n",
    "\n",
    "# Create two sample DataFrames\n",
    "df1 = pd.DataFrame({'A': ['A0', 'A1', 'A2', 'A3'],\n",
    "                    'B': ['B0', 'B1', 'B2', 'B3'],\n",
    "                    'C': ['C0', 'C1', 'C2', 'C3'],\n",
    "                    'D': ['D0', 'D1', 'D2', 'D3']})\n",
    "df2 = pd.DataFrame({'A': ['A4', 'A5', 'A6', 'A7'],\n",
    "                    'B': ['B4', 'B5', 'B6', 'B7'],\n",
    "                    'C': ['C4', 'C5', 'C6', 'C7'],\n",
    "                    'D': ['D4', 'D5', 'D6', 'D7']})\n",
    "\n",
    "# Concatenate the DataFrames along rows\n",
    "result = pd.concat([df1, df2], axis=0, join='inner')\n",
    "\n",
    "# Print the concatenated DataFrame\n",
    "print(result)\n"
   ]
  },
  {
   "cell_type": "code",
   "execution_count": null,
   "id": "077c8b10",
   "metadata": {},
   "outputs": [],
   "source": []
  }
 ],
 "metadata": {
  "kernelspec": {
   "display_name": "Python 3 (ipykernel)",
   "language": "python",
   "name": "python3"
  },
  "language_info": {
   "codemirror_mode": {
    "name": "ipython",
    "version": 3
   },
   "file_extension": ".py",
   "mimetype": "text/x-python",
   "name": "python",
   "nbconvert_exporter": "python",
   "pygments_lexer": "ipython3",
   "version": "3.10.9"
  }
 },
 "nbformat": 4,
 "nbformat_minor": 5
}
