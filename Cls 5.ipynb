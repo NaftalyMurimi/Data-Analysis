{
 "cells": [
  {
   "cell_type": "markdown",
   "id": "c69664d8",
   "metadata": {},
   "source": [
    "# Introduction into Pandas"
   ]
  },
  {
   "cell_type": "raw",
   "id": "aa5666c2",
   "metadata": {},
   "source": [
    "Pandas is a software library written for the Python programming language. It is used for data manipulation and\n",
    "analysis. It provides special data structures and operations for the manipulation of numerical tables and time\n",
    "series."
   ]
  },
  {
   "cell_type": "markdown",
   "id": "fd2b43ec",
   "metadata": {},
   "source": [
    "### Data Structures"
   ]
  },
  {
   "cell_type": "raw",
   "id": "63dcf9e8",
   "metadata": {},
   "source": [
    "We will start with the following two important data structures of Pandas:\n",
    "• Series and\n",
    "• DataFrame"
   ]
  },
  {
   "cell_type": "raw",
   "id": "66046445",
   "metadata": {},
   "source": [
    "#series\n",
    "A Series is a one-dimensional labelled array-like object. It is capable of holding any data type, e.g. integers,\n",
    "floats, strings, Python objects, and so on. It can be seen as a data structure with two arrays: one functioning as\n",
    "the index, i.e. the labels, and the other one contains the actual data."
   ]
  },
  {
   "cell_type": "code",
   "execution_count": 3,
   "id": "6a45e535",
   "metadata": {},
   "outputs": [
    {
     "name": "stdout",
     "output_type": "stream",
     "text": [
      "0    10\n",
      "1    20\n",
      "2    30\n",
      "3    40\n",
      "4    50\n",
      "5    60\n",
      "6    70\n",
      "dtype: int64\n",
      "[10 20 30 40 50 60 70]\n"
     ]
    }
   ],
   "source": [
    "import pandas as pd\n",
    "S =  pd.Series([10, 20, 30, 40 ,50, 60, 70])\n",
    "S\n",
    "print(S)\n",
    "print(S.values)"
   ]
  },
  {
   "cell_type": "raw",
   "id": "d9b4e822",
   "metadata": {},
   "source": [
    "If we add two series with the same indices, we get a new series with the same index and the correponding\n",
    "values will be added:"
   ]
  },
  {
   "cell_type": "code",
   "execution_count": 4,
   "id": "5cb233be",
   "metadata": {},
   "outputs": [
    {
     "name": "stdout",
     "output_type": "stream",
     "text": [
      "Apples        59\n",
      "Mangoes       48\n",
      "Oranges       48\n",
      "Pineapples    94\n",
      "Ovacado       40\n",
      "dtype: int64\n",
      "sum of S:  130\n"
     ]
    }
   ],
   "source": [
    "fruits= ['Apples', 'Mangoes', 'Oranges', 'Pineapples', 'Ovacado']\n",
    "\n",
    "S = pd.Series([45, 23, 12, 32, 18], index=fruits)\n",
    "S2 = pd.Series([14, 25, 36, 62, 22], index=fruits)\n",
    "print( S + S2)\n",
    "print(\"sum of S: \", sum(S))\n"
   ]
  },
  {
   "cell_type": "raw",
   "id": "5513c666",
   "metadata": {},
   "source": [
    "INDEXING\n",
    "It's possible to access single values of a Series."
   ]
  },
  {
   "cell_type": "code",
   "execution_count": 5,
   "id": "ee3e9c7a",
   "metadata": {},
   "outputs": [
    {
     "name": "stdout",
     "output_type": "stream",
     "text": [
      "14\n"
     ]
    }
   ],
   "source": [
    "print(S2['Apples'])"
   ]
  },
  {
   "cell_type": "markdown",
   "id": "b82ac656",
   "metadata": {},
   "source": [
    "### PANDAS.SERIES.APPLY"
   ]
  },
  {
   "cell_type": "raw",
   "id": "107997bd",
   "metadata": {},
   "source": [
    "Series.apply(func, convert_dtype=True, args=(), **kwds)\n",
    "The function \"func\" will be applied to the Series and it returns either a Series or a DataFrame, depending on\n",
    "\"func\""
   ]
  },
  {
   "cell_type": "markdown",
   "id": "eb88fb51",
   "metadata": {},
   "source": [
    "### Creating Series objects from dictionaries"
   ]
  },
  {
   "cell_type": "code",
   "execution_count": 6,
   "id": "1a8e60c5",
   "metadata": {},
   "outputs": [
    {
     "name": "stdout",
     "output_type": "stream",
     "text": [
      "London     22\n",
      "Berlin     33\n",
      "Rome       52\n",
      "Nairobi    34\n",
      "Nakuru     56\n",
      "Mombasa    44\n",
      "dtype: int64\n"
     ]
    }
   ],
   "source": [
    "cities = {'London': 22,\n",
    "         'Berlin': 33,\n",
    "         'Rome': 52,\n",
    "         'Nairobi': 34,\n",
    "         'Nakuru': 56,\n",
    "         'Mombasa': 44}\n",
    "cities_series = pd.Series(cities)\n",
    "print(cities_series)"
   ]
  },
  {
   "cell_type": "markdown",
   "id": "7256bf8a",
   "metadata": {},
   "source": [
    "### NAN - MISSING DATA"
   ]
  },
  {
   "cell_type": "raw",
   "id": "856e3bbe",
   "metadata": {},
   "source": [
    "One problem in dealing with data analysis tasks consists in missing data. Pandas makes it as easy as possible to work with missing data."
   ]
  },
  {
   "cell_type": "code",
   "execution_count": 7,
   "id": "63eebeb9",
   "metadata": {},
   "outputs": [
    {
     "data": {
      "text/plain": [
       "Eldoret     NaN\n",
       "Paris       NaN\n",
       "London     22.0\n",
       "Kisumu      NaN\n",
       "Mombasa    44.0\n",
       "Nairobi    34.0\n",
       "London     22.0\n",
       "Berlin     33.0\n",
       "dtype: float64"
      ]
     },
     "execution_count": 7,
     "metadata": {},
     "output_type": "execute_result"
    }
   ],
   "source": [
    "my_cities = ['Eldoret', 'Paris', 'London', 'Kisumu', 'Mombasa', 'Nairobi', 'London', 'Berlin']\n",
    "\n",
    "my_cities_series = pd.Series(cities, index= my_cities)\n",
    "my_cities_series"
   ]
  },
  {
   "cell_type": "markdown",
   "id": "4751abf7",
   "metadata": {},
   "source": [
    "### THE METHODS ISNULL() AND NOTNULL()"
   ]
  },
  {
   "cell_type": "raw",
   "id": "63bdd2d6",
   "metadata": {},
   "source": [
    "We can see, that the cities, which are not included in the dictionary, get the value NaN assigned. NaN stands for \"not a number\". It can also be seen as meaning \"missing\" in our example. We can check for missing values with the methods isnull and notnull:"
   ]
  },
  {
   "cell_type": "code",
   "execution_count": 8,
   "id": "bd27891d",
   "metadata": {},
   "outputs": [
    {
     "name": "stdout",
     "output_type": "stream",
     "text": [
      "Eldoret     True\n",
      "Paris       True\n",
      "London     False\n",
      "Kisumu      True\n",
      "Mombasa    False\n",
      "Nairobi    False\n",
      "London     False\n",
      "Berlin     False\n",
      "dtype: bool\n"
     ]
    }
   ],
   "source": [
    "print(my_cities_series.isnull())"
   ]
  },
  {
   "cell_type": "code",
   "execution_count": 30,
   "id": "b1db1e8d",
   "metadata": {},
   "outputs": [
    {
     "name": "stdout",
     "output_type": "stream",
     "text": [
      "Eldoret    False\n",
      "Paris      False\n",
      "London      True\n",
      "Kisumu     False\n",
      "Mombasa     True\n",
      "Nairobi     True\n",
      "London      True\n",
      "Berlin      True\n",
      "dtype: bool\n"
     ]
    }
   ],
   "source": [
    "print(my_cities_series.notnull())"
   ]
  },
  {
   "cell_type": "markdown",
   "id": "74a7475f",
   "metadata": {},
   "source": [
    "### FILTERING OUT MISSING DATA "
   ]
  },
  {
   "cell_type": "raw",
   "id": "72854746",
   "metadata": {},
   "source": [
    "It's possible to filter out missing data with the Series method dropna. It returns a Series which consists only of non-null data"
   ]
  },
  {
   "cell_type": "code",
   "execution_count": 31,
   "id": "41a36dbc",
   "metadata": {},
   "outputs": [
    {
     "name": "stdout",
     "output_type": "stream",
     "text": [
      "London     22.0\n",
      "Mombasa    44.0\n",
      "Nairobi    34.0\n",
      "London     22.0\n",
      "Berlin     33.0\n",
      "dtype: float64\n"
     ]
    }
   ],
   "source": [
    "print(my_cities_series.dropna())"
   ]
  },
  {
   "cell_type": "markdown",
   "id": "9700118d",
   "metadata": {},
   "source": [
    "#### FILLING IN MISSING DATA"
   ]
  },
  {
   "cell_type": "raw",
   "id": "ced04890",
   "metadata": {},
   "source": [
    "In many cases you don't want to filter out missing data, but you want to fill in appropriate data for the empty gaps. A suitable method in many situations will be fillna:"
   ]
  },
  {
   "cell_type": "code",
   "execution_count": 34,
   "id": "f4212869",
   "metadata": {},
   "outputs": [
    {
     "data": {
      "text/plain": [
       "Eldoret    43\n",
       "Paris      90\n",
       "London     22\n",
       "Kisumu     88\n",
       "Mombasa    44\n",
       "Nairobi    34\n",
       "London     22\n",
       "Berlin     33\n",
       "dtype: int32"
      ]
     },
     "execution_count": 34,
     "metadata": {},
     "output_type": "execute_result"
    }
   ],
   "source": [
    "missing_cities= {'Eldoret': 43, 'Paris': 90, 'Kisumu': 88}\n",
    "#.astype converts the data type to integer\n",
    "my_cities_series.fillna(missing_cities).astype(int)"
   ]
  },
  {
   "cell_type": "markdown",
   "id": "ee157a8d",
   "metadata": {},
   "source": [
    "# DataFrame"
   ]
  },
  {
   "cell_type": "raw",
   "id": "bb80c5d3",
   "metadata": {},
   "source": [
    "The underlying idea of a DataFrame is based on spreadsheets. We can see the data structure of a DataFrame as tabular and spreadsheet-like. A DataFrame logically corresponds to a \"sheet\" of an Excel document. A DataFrame has both a row and a column index."
   ]
  },
  {
   "cell_type": "code",
   "execution_count": 11,
   "id": "673dd379",
   "metadata": {
    "scrolled": true
   },
   "outputs": [
    {
     "data": {
      "text/plain": [
       "2014    2409.14\n",
       "2015    2941.01\n",
       "2016    3496.83\n",
       "2017    3119.55\n",
       "2014    1203.45\n",
       "2015    3441.62\n",
       "2016    3007.83\n",
       "2017    3619.53\n",
       "2014    3412.12\n",
       "2015    3491.16\n",
       "2016    3457.19\n",
       "2017    1963.10\n",
       "dtype: float64"
      ]
     },
     "execution_count": 11,
     "metadata": {},
     "output_type": "execute_result"
    }
   ],
   "source": [
    " import pandas as pd\n",
    "years = range(2014, 2018)\n",
    "shop1 = pd.Series([2409.14, 2941.01, 3496.83, 3119.55], index=years)\n",
    "shop2 = pd.Series([1203.45, 3441.62, 3007.83, 3619.53], index=years)\n",
    "shop3 = pd.Series([3412.12, 3491.16, 3457.19, 1963.10], index=years)\n",
    "pd.concat([shop1, shop2, shop3])"
   ]
  },
  {
   "cell_type": "raw",
   "id": "2fa2012e",
   "metadata": {},
   "source": [
    "This result is not what we have intended or expected. The reason is that concat used 0 as the default for the axis parameter. Let's do it with \"axis=1\":"
   ]
  },
  {
   "cell_type": "code",
   "execution_count": 12,
   "id": "9078e24d",
   "metadata": {},
   "outputs": [
    {
     "data": {
      "text/html": [
       "<div>\n",
       "<style scoped>\n",
       "    .dataframe tbody tr th:only-of-type {\n",
       "        vertical-align: middle;\n",
       "    }\n",
       "\n",
       "    .dataframe tbody tr th {\n",
       "        vertical-align: top;\n",
       "    }\n",
       "\n",
       "    .dataframe thead th {\n",
       "        text-align: right;\n",
       "    }\n",
       "</style>\n",
       "<table border=\"1\" class=\"dataframe\">\n",
       "  <thead>\n",
       "    <tr style=\"text-align: right;\">\n",
       "      <th></th>\n",
       "      <th>0</th>\n",
       "      <th>1</th>\n",
       "      <th>2</th>\n",
       "    </tr>\n",
       "  </thead>\n",
       "  <tbody>\n",
       "    <tr>\n",
       "      <th>2014</th>\n",
       "      <td>2409.14</td>\n",
       "      <td>1203.45</td>\n",
       "      <td>3412.12</td>\n",
       "    </tr>\n",
       "    <tr>\n",
       "      <th>2015</th>\n",
       "      <td>2941.01</td>\n",
       "      <td>3441.62</td>\n",
       "      <td>3491.16</td>\n",
       "    </tr>\n",
       "    <tr>\n",
       "      <th>2016</th>\n",
       "      <td>3496.83</td>\n",
       "      <td>3007.83</td>\n",
       "      <td>3457.19</td>\n",
       "    </tr>\n",
       "    <tr>\n",
       "      <th>2017</th>\n",
       "      <td>3119.55</td>\n",
       "      <td>3619.53</td>\n",
       "      <td>1963.10</td>\n",
       "    </tr>\n",
       "  </tbody>\n",
       "</table>\n",
       "</div>"
      ],
      "text/plain": [
       "            0        1        2\n",
       "2014  2409.14  1203.45  3412.12\n",
       "2015  2941.01  3441.62  3491.16\n",
       "2016  3496.83  3007.83  3457.19\n",
       "2017  3119.55  3619.53  1963.10"
      ]
     },
     "execution_count": 12,
     "metadata": {},
     "output_type": "execute_result"
    }
   ],
   "source": [
    "shops_df = pd.concat([shop1, shop2, shop3], axis=1)\n",
    "shops_df"
   ]
  },
  {
   "cell_type": "code",
   "execution_count": 13,
   "id": "d6a252cb",
   "metadata": {},
   "outputs": [
    {
     "name": "stdout",
     "output_type": "stream",
     "text": [
      "      Nairobi   Kisumu  Mombasa\n",
      "2014  2409.14  1203.45  3412.12\n",
      "2015  2941.01  3441.62  3491.16\n",
      "2016  3496.83  3007.83  3457.19\n",
      "2017  3119.55  3619.53  1963.10\n"
     ]
    }
   ],
   "source": [
    "cities =[\"Nairobi\", \"Kisumu\", \"Mombasa\"]\n",
    "shops_df.columns = cities\n",
    "print(shops_df)"
   ]
  },
  {
   "cell_type": "code",
   "execution_count": 50,
   "id": "ce481c9b",
   "metadata": {},
   "outputs": [
    {
     "name": "stdout",
     "output_type": "stream",
     "text": [
      "      Nairobi   Kisumu    Nyeri\n",
      "2014  2409.14  1203.45  3412.12\n",
      "2015  2941.01  3441.62  3491.16\n",
      "2016  3496.83  3007.83  3457.19\n",
      "2017  3119.55  3619.53  1963.10\n"
     ]
    }
   ],
   "source": [
    "# Rename columns\n",
    "shops_df.rename(columns={'Mombasa':'Nyeri'}, inplace= True)\n",
    "print(shops_df)"
   ]
  },
  {
   "cell_type": "markdown",
   "id": "ebc3d6e6",
   "metadata": {},
   "source": [
    "#### ACCESSING ROWS VIA INDEX VALUES "
   ]
  },
  {
   "cell_type": "raw",
   "id": "9d31301c",
   "metadata": {},
   "source": [
    " how we can access rows from DataFrames via the locators 'loc' and 'iloc'.\n",
    " It is also possible to simultaneously extracting rows by chosen more than on index labels. To do this we use a\n",
    "list of indices:"
   ]
  },
  {
   "cell_type": "code",
   "execution_count": 15,
   "id": "ba8243ee",
   "metadata": {},
   "outputs": [
    {
     "name": "stdout",
     "output_type": "stream",
     "text": [
      "Nairobi    3119.55\n",
      "Kisumu     3619.53\n",
      "Mombasa    1963.10\n",
      "Name: 2017, dtype: float64\n",
      "      Nairobi   Kisumu  Mombasa\n",
      "2014  2409.14  1203.45  3412.12\n",
      "2015  2941.01  3441.62  3491.16\n"
     ]
    }
   ],
   "source": [
    "print(shops_df.loc[2017])\n",
    "print(shops_df.loc[[2014,2015]])"
   ]
  },
  {
   "cell_type": "markdown",
   "id": "ea5dec05",
   "metadata": {},
   "source": [
    "#### ACCESSING ROWS BY POSITION"
   ]
  },
  {
   "cell_type": "raw",
   "id": "7d836659",
   "metadata": {},
   "source": [
    "The iloc method of a Pandas DataFrame object can be used to select rows and columns by number, i.e. in\n",
    "the order that they appear in the data frame. iloc allows selections of the rows, as if they were numbered\n",
    "by integers 0 , 1 , 2 , ...."
   ]
  },
  {
   "cell_type": "code",
   "execution_count": 17,
   "id": "1611739d",
   "metadata": {},
   "outputs": [
    {
     "data": {
      "text/plain": [
       "Nairobi    2409.14\n",
       "Kisumu     1203.45\n",
       "Mombasa    3412.12\n",
       "Name: 2014, dtype: float64"
      ]
     },
     "execution_count": 17,
     "metadata": {},
     "output_type": "execute_result"
    }
   ],
   "source": [
    "\n",
    "df = shops_df.iloc[0]\n",
    "df"
   ]
  },
  {
   "cell_type": "markdown",
   "id": "1d15ad7f",
   "metadata": {},
   "source": [
    "### continuation data A"
   ]
  },
  {
   "cell_type": "code",
   "execution_count": 14,
   "id": "a6d51d74",
   "metadata": {},
   "outputs": [
    {
     "data": {
      "text/html": [
       "<div>\n",
       "<style scoped>\n",
       "    .dataframe tbody tr th:only-of-type {\n",
       "        vertical-align: middle;\n",
       "    }\n",
       "\n",
       "    .dataframe tbody tr th {\n",
       "        vertical-align: top;\n",
       "    }\n",
       "\n",
       "    .dataframe thead th {\n",
       "        text-align: right;\n",
       "    }\n",
       "</style>\n",
       "<table border=\"1\" class=\"dataframe\">\n",
       "  <thead>\n",
       "    <tr style=\"text-align: right;\">\n",
       "      <th></th>\n",
       "      <th>name</th>\n",
       "      <th>population</th>\n",
       "      <th>country</th>\n",
       "    </tr>\n",
       "  </thead>\n",
       "  <tbody>\n",
       "    <tr>\n",
       "      <th>0</th>\n",
       "      <td>London</td>\n",
       "      <td>8615246</td>\n",
       "      <td>England</td>\n",
       "    </tr>\n",
       "    <tr>\n",
       "      <th>1</th>\n",
       "      <td>Berlin</td>\n",
       "      <td>3562166</td>\n",
       "      <td>Germany</td>\n",
       "    </tr>\n",
       "    <tr>\n",
       "      <th>2</th>\n",
       "      <td>Madrid</td>\n",
       "      <td>3165235</td>\n",
       "      <td>Spain</td>\n",
       "    </tr>\n",
       "    <tr>\n",
       "      <th>3</th>\n",
       "      <td>Romania</td>\n",
       "      <td>2874038</td>\n",
       "      <td>Italy</td>\n",
       "    </tr>\n",
       "    <tr>\n",
       "      <th>4</th>\n",
       "      <td>Paris</td>\n",
       "      <td>2273305</td>\n",
       "      <td>France</td>\n",
       "    </tr>\n",
       "    <tr>\n",
       "      <th>5</th>\n",
       "      <td>Vienna</td>\n",
       "      <td>1805681</td>\n",
       "      <td>Austria</td>\n",
       "    </tr>\n",
       "    <tr>\n",
       "      <th>6</th>\n",
       "      <td>Bucharest</td>\n",
       "      <td>1803425</td>\n",
       "      <td>Romania</td>\n",
       "    </tr>\n",
       "    <tr>\n",
       "      <th>7</th>\n",
       "      <td>Hamburg</td>\n",
       "      <td>1760433</td>\n",
       "      <td>Germany</td>\n",
       "    </tr>\n",
       "    <tr>\n",
       "      <th>8</th>\n",
       "      <td>Budapest</td>\n",
       "      <td>1754000</td>\n",
       "      <td>Hungary</td>\n",
       "    </tr>\n",
       "    <tr>\n",
       "      <th>9</th>\n",
       "      <td>Warsaw</td>\n",
       "      <td>1740119</td>\n",
       "      <td>Poland</td>\n",
       "    </tr>\n",
       "    <tr>\n",
       "      <th>10</th>\n",
       "      <td>Barcelona</td>\n",
       "      <td>1602386</td>\n",
       "      <td>Spain</td>\n",
       "    </tr>\n",
       "    <tr>\n",
       "      <th>11</th>\n",
       "      <td>Munich</td>\n",
       "      <td>1493900</td>\n",
       "      <td>Germany</td>\n",
       "    </tr>\n",
       "    <tr>\n",
       "      <th>12</th>\n",
       "      <td>Milan</td>\n",
       "      <td>1350680</td>\n",
       "      <td>Italy</td>\n",
       "    </tr>\n",
       "  </tbody>\n",
       "</table>\n",
       "</div>"
      ],
      "text/plain": [
       "         name  population  country\n",
       "0      London     8615246  England\n",
       "1      Berlin     3562166  Germany\n",
       "2      Madrid     3165235    Spain\n",
       "3     Romania     2874038    Italy\n",
       "4       Paris     2273305   France\n",
       "5      Vienna     1805681  Austria\n",
       "6   Bucharest     1803425  Romania\n",
       "7     Hamburg     1760433  Germany\n",
       "8    Budapest     1754000  Hungary\n",
       "9      Warsaw     1740119   Poland\n",
       "10  Barcelona     1602386    Spain\n",
       "11     Munich     1493900  Germany\n",
       "12      Milan     1350680    Italy"
      ]
     },
     "execution_count": 14,
     "metadata": {},
     "output_type": "execute_result"
    }
   ],
   "source": [
    "import pandas as pd\n",
    "cities = {\n",
    "\"name\": [\"London\", \"Berlin\", \"Madrid\", \"Romania\",\n",
    "                \"Paris\", \"Vienna\", \"Bucharest\", \"Hamburg\",\n",
    "                \"Budapest\", \"Warsaw\", \"Barcelona\",\n",
    "                \"Munich\", \"Milan\"],\n",
    "\"population\": [8615246, 3562166, 3165235, 2874038,\n",
    "                2273305, 1805681, 1803425, 1760433,\n",
    "                1754000, 1740119, 1602386, 1493900,\n",
    "                1350680],\n",
    "\"country\": [\"England\", \"Germany\", \"Spain\", \"Italy\",\n",
    "            \"France\", \"Austria\", \"Romania\",\n",
    "            \"Germany\", \"Hungary\", \"Poland\", \"Spain\",\n",
    "            \"Germany\", \"Italy\"]}\n",
    "city_frame = pd.DataFrame(cities)\n",
    "city_frame"
   ]
  },
  {
   "cell_type": "code",
   "execution_count": 15,
   "id": "73de63d4",
   "metadata": {},
   "outputs": [
    {
     "data": {
      "text/html": [
       "<div>\n",
       "<style scoped>\n",
       "    .dataframe tbody tr th:only-of-type {\n",
       "        vertical-align: middle;\n",
       "    }\n",
       "\n",
       "    .dataframe tbody tr th {\n",
       "        vertical-align: top;\n",
       "    }\n",
       "\n",
       "    .dataframe thead th {\n",
       "        text-align: right;\n",
       "    }\n",
       "</style>\n",
       "<table border=\"1\" class=\"dataframe\">\n",
       "  <thead>\n",
       "    <tr style=\"text-align: right;\">\n",
       "      <th></th>\n",
       "      <th>City</th>\n",
       "      <th>Population</th>\n",
       "      <th>Country</th>\n",
       "    </tr>\n",
       "  </thead>\n",
       "  <tbody>\n",
       "    <tr>\n",
       "      <th>0</th>\n",
       "      <td>London</td>\n",
       "      <td>8615246</td>\n",
       "      <td>England</td>\n",
       "    </tr>\n",
       "    <tr>\n",
       "      <th>1</th>\n",
       "      <td>Berlin</td>\n",
       "      <td>3562166</td>\n",
       "      <td>Germany</td>\n",
       "    </tr>\n",
       "    <tr>\n",
       "      <th>2</th>\n",
       "      <td>Madrid</td>\n",
       "      <td>3165235</td>\n",
       "      <td>Spain</td>\n",
       "    </tr>\n",
       "    <tr>\n",
       "      <th>3</th>\n",
       "      <td>Romania</td>\n",
       "      <td>2874038</td>\n",
       "      <td>Italy</td>\n",
       "    </tr>\n",
       "    <tr>\n",
       "      <th>4</th>\n",
       "      <td>Paris</td>\n",
       "      <td>2273305</td>\n",
       "      <td>France</td>\n",
       "    </tr>\n",
       "    <tr>\n",
       "      <th>5</th>\n",
       "      <td>Vienna</td>\n",
       "      <td>1805681</td>\n",
       "      <td>Austria</td>\n",
       "    </tr>\n",
       "    <tr>\n",
       "      <th>6</th>\n",
       "      <td>Bucharest</td>\n",
       "      <td>1803425</td>\n",
       "      <td>Romania</td>\n",
       "    </tr>\n",
       "    <tr>\n",
       "      <th>7</th>\n",
       "      <td>Hamburg</td>\n",
       "      <td>1760433</td>\n",
       "      <td>Germany</td>\n",
       "    </tr>\n",
       "    <tr>\n",
       "      <th>8</th>\n",
       "      <td>Budapest</td>\n",
       "      <td>1754000</td>\n",
       "      <td>Hungary</td>\n",
       "    </tr>\n",
       "    <tr>\n",
       "      <th>9</th>\n",
       "      <td>Warsaw</td>\n",
       "      <td>1740119</td>\n",
       "      <td>Poland</td>\n",
       "    </tr>\n",
       "    <tr>\n",
       "      <th>10</th>\n",
       "      <td>Barcelona</td>\n",
       "      <td>1602386</td>\n",
       "      <td>Spain</td>\n",
       "    </tr>\n",
       "    <tr>\n",
       "      <th>11</th>\n",
       "      <td>Munich</td>\n",
       "      <td>1493900</td>\n",
       "      <td>Germany</td>\n",
       "    </tr>\n",
       "    <tr>\n",
       "      <th>12</th>\n",
       "      <td>Milan</td>\n",
       "      <td>1350680</td>\n",
       "      <td>Italy</td>\n",
       "    </tr>\n",
       "  </tbody>\n",
       "</table>\n",
       "</div>"
      ],
      "text/plain": [
       "         City  Population  Country\n",
       "0      London     8615246  England\n",
       "1      Berlin     3562166  Germany\n",
       "2      Madrid     3165235    Spain\n",
       "3     Romania     2874038    Italy\n",
       "4       Paris     2273305   France\n",
       "5      Vienna     1805681  Austria\n",
       "6   Bucharest     1803425  Romania\n",
       "7     Hamburg     1760433  Germany\n",
       "8    Budapest     1754000  Hungary\n",
       "9      Warsaw     1740119   Poland\n",
       "10  Barcelona     1602386    Spain\n",
       "11     Munich     1493900  Germany\n",
       "12      Milan     1350680    Italy"
      ]
     },
     "execution_count": 15,
     "metadata": {},
     "output_type": "execute_result"
    }
   ],
   "source": [
    "# Rename columns\n",
    "import pandas as pd\n",
    "# Convert dictionary to DataFrame\n",
    "cities = pd.DataFrame(cities)\n",
    "cities.rename(columns={'name': 'City', 'population': 'Population', 'country': 'Country'}, inplace= True)\n",
    "cities"
   ]
  },
  {
   "cell_type": "raw",
   "id": "5dcaf636",
   "metadata": {},
   "source": [
    "Rearranging The order of columns"
   ]
  },
  {
   "cell_type": "code",
   "execution_count": 16,
   "id": "9629b184",
   "metadata": {},
   "outputs": [
    {
     "data": {
      "text/html": [
       "<div>\n",
       "<style scoped>\n",
       "    .dataframe tbody tr th:only-of-type {\n",
       "        vertical-align: middle;\n",
       "    }\n",
       "\n",
       "    .dataframe tbody tr th {\n",
       "        vertical-align: top;\n",
       "    }\n",
       "\n",
       "    .dataframe thead th {\n",
       "        text-align: right;\n",
       "    }\n",
       "</style>\n",
       "<table border=\"1\" class=\"dataframe\">\n",
       "  <thead>\n",
       "    <tr style=\"text-align: right;\">\n",
       "      <th></th>\n",
       "      <th>Country</th>\n",
       "      <th>City</th>\n",
       "      <th>Population</th>\n",
       "    </tr>\n",
       "  </thead>\n",
       "  <tbody>\n",
       "    <tr>\n",
       "      <th>0</th>\n",
       "      <td>England</td>\n",
       "      <td>London</td>\n",
       "      <td>8615246</td>\n",
       "    </tr>\n",
       "    <tr>\n",
       "      <th>1</th>\n",
       "      <td>Germany</td>\n",
       "      <td>Berlin</td>\n",
       "      <td>3562166</td>\n",
       "    </tr>\n",
       "    <tr>\n",
       "      <th>2</th>\n",
       "      <td>Spain</td>\n",
       "      <td>Madrid</td>\n",
       "      <td>3165235</td>\n",
       "    </tr>\n",
       "    <tr>\n",
       "      <th>3</th>\n",
       "      <td>Italy</td>\n",
       "      <td>Romania</td>\n",
       "      <td>2874038</td>\n",
       "    </tr>\n",
       "    <tr>\n",
       "      <th>4</th>\n",
       "      <td>France</td>\n",
       "      <td>Paris</td>\n",
       "      <td>2273305</td>\n",
       "    </tr>\n",
       "    <tr>\n",
       "      <th>5</th>\n",
       "      <td>Austria</td>\n",
       "      <td>Vienna</td>\n",
       "      <td>1805681</td>\n",
       "    </tr>\n",
       "    <tr>\n",
       "      <th>6</th>\n",
       "      <td>Romania</td>\n",
       "      <td>Bucharest</td>\n",
       "      <td>1803425</td>\n",
       "    </tr>\n",
       "    <tr>\n",
       "      <th>7</th>\n",
       "      <td>Germany</td>\n",
       "      <td>Hamburg</td>\n",
       "      <td>1760433</td>\n",
       "    </tr>\n",
       "    <tr>\n",
       "      <th>8</th>\n",
       "      <td>Hungary</td>\n",
       "      <td>Budapest</td>\n",
       "      <td>1754000</td>\n",
       "    </tr>\n",
       "    <tr>\n",
       "      <th>9</th>\n",
       "      <td>Poland</td>\n",
       "      <td>Warsaw</td>\n",
       "      <td>1740119</td>\n",
       "    </tr>\n",
       "    <tr>\n",
       "      <th>10</th>\n",
       "      <td>Spain</td>\n",
       "      <td>Barcelona</td>\n",
       "      <td>1602386</td>\n",
       "    </tr>\n",
       "    <tr>\n",
       "      <th>11</th>\n",
       "      <td>Germany</td>\n",
       "      <td>Munich</td>\n",
       "      <td>1493900</td>\n",
       "    </tr>\n",
       "    <tr>\n",
       "      <th>12</th>\n",
       "      <td>Italy</td>\n",
       "      <td>Milan</td>\n",
       "      <td>1350680</td>\n",
       "    </tr>\n",
       "  </tbody>\n",
       "</table>\n",
       "</div>"
      ],
      "text/plain": [
       "    Country       City  Population\n",
       "0   England     London     8615246\n",
       "1   Germany     Berlin     3562166\n",
       "2     Spain     Madrid     3165235\n",
       "3     Italy    Romania     2874038\n",
       "4    France      Paris     2273305\n",
       "5   Austria     Vienna     1805681\n",
       "6   Romania  Bucharest     1803425\n",
       "7   Germany    Hamburg     1760433\n",
       "8   Hungary   Budapest     1754000\n",
       "9    Poland     Warsaw     1740119\n",
       "10    Spain  Barcelona     1602386\n",
       "11  Germany     Munich     1493900\n",
       "12    Italy      Milan     1350680"
      ]
     },
     "execution_count": 16,
     "metadata": {},
     "output_type": "execute_result"
    }
   ],
   "source": [
    "cities = pd.DataFrame(cities, columns= ['Country', 'City', 'Population'])\n",
    "cities\n"
   ]
  },
  {
   "cell_type": "code",
   "execution_count": 24,
   "id": "00f2de1c",
   "metadata": {},
   "outputs": [
    {
     "data": {
      "text/html": [
       "<div>\n",
       "<style scoped>\n",
       "    .dataframe tbody tr th:only-of-type {\n",
       "        vertical-align: middle;\n",
       "    }\n",
       "\n",
       "    .dataframe tbody tr th {\n",
       "        vertical-align: top;\n",
       "    }\n",
       "\n",
       "    .dataframe thead th {\n",
       "        text-align: right;\n",
       "    }\n",
       "</style>\n",
       "<table border=\"1\" class=\"dataframe\">\n",
       "  <thead>\n",
       "    <tr style=\"text-align: right;\">\n",
       "      <th></th>\n",
       "      <th>Country</th>\n",
       "      <th>City</th>\n",
       "      <th>Population</th>\n",
       "      <th>Area</th>\n",
       "    </tr>\n",
       "  </thead>\n",
       "  <tbody>\n",
       "    <tr>\n",
       "      <th>0</th>\n",
       "      <td>England</td>\n",
       "      <td>London</td>\n",
       "      <td>8615246</td>\n",
       "      <td>2712</td>\n",
       "    </tr>\n",
       "    <tr>\n",
       "      <th>1</th>\n",
       "      <td>Germany</td>\n",
       "      <td>Berlin</td>\n",
       "      <td>3562166</td>\n",
       "      <td>3344</td>\n",
       "    </tr>\n",
       "    <tr>\n",
       "      <th>2</th>\n",
       "      <td>Spain</td>\n",
       "      <td>Madrid</td>\n",
       "      <td>3165235</td>\n",
       "      <td>7847</td>\n",
       "    </tr>\n",
       "    <tr>\n",
       "      <th>3</th>\n",
       "      <td>Italy</td>\n",
       "      <td>Romania</td>\n",
       "      <td>2874038</td>\n",
       "      <td>9848</td>\n",
       "    </tr>\n",
       "    <tr>\n",
       "      <th>4</th>\n",
       "      <td>France</td>\n",
       "      <td>Paris</td>\n",
       "      <td>2273305</td>\n",
       "      <td>9667</td>\n",
       "    </tr>\n",
       "    <tr>\n",
       "      <th>5</th>\n",
       "      <td>Austria</td>\n",
       "      <td>Vienna</td>\n",
       "      <td>1805681</td>\n",
       "      <td>4445</td>\n",
       "    </tr>\n",
       "    <tr>\n",
       "      <th>6</th>\n",
       "      <td>Romania</td>\n",
       "      <td>Bucharest</td>\n",
       "      <td>1803425</td>\n",
       "      <td>9170</td>\n",
       "    </tr>\n",
       "    <tr>\n",
       "      <th>7</th>\n",
       "      <td>Germany</td>\n",
       "      <td>Hamburg</td>\n",
       "      <td>1760433</td>\n",
       "      <td>9788</td>\n",
       "    </tr>\n",
       "    <tr>\n",
       "      <th>8</th>\n",
       "      <td>Hungary</td>\n",
       "      <td>Budapest</td>\n",
       "      <td>1754000</td>\n",
       "      <td>1234</td>\n",
       "    </tr>\n",
       "    <tr>\n",
       "      <th>9</th>\n",
       "      <td>Poland</td>\n",
       "      <td>Warsaw</td>\n",
       "      <td>1740119</td>\n",
       "      <td>9543</td>\n",
       "    </tr>\n",
       "    <tr>\n",
       "      <th>10</th>\n",
       "      <td>Spain</td>\n",
       "      <td>Barcelona</td>\n",
       "      <td>1602386</td>\n",
       "      <td>7086</td>\n",
       "    </tr>\n",
       "    <tr>\n",
       "      <th>11</th>\n",
       "      <td>Germany</td>\n",
       "      <td>Munich</td>\n",
       "      <td>1493900</td>\n",
       "      <td>6078</td>\n",
       "    </tr>\n",
       "    <tr>\n",
       "      <th>12</th>\n",
       "      <td>Italy</td>\n",
       "      <td>Milan</td>\n",
       "      <td>1350680</td>\n",
       "      <td>8799</td>\n",
       "    </tr>\n",
       "  </tbody>\n",
       "</table>\n",
       "</div>"
      ],
      "text/plain": [
       "    Country       City  Population  Area\n",
       "0   England     London     8615246  2712\n",
       "1   Germany     Berlin     3562166  3344\n",
       "2     Spain     Madrid     3165235  7847\n",
       "3     Italy    Romania     2874038  9848\n",
       "4    France      Paris     2273305  9667\n",
       "5   Austria     Vienna     1805681  4445\n",
       "6   Romania  Bucharest     1803425  9170\n",
       "7   Germany    Hamburg     1760433  9788\n",
       "8   Hungary   Budapest     1754000  1234\n",
       "9    Poland     Warsaw     1740119  9543\n",
       "10    Spain  Barcelona     1602386  7086\n",
       "11  Germany     Munich     1493900  6078\n",
       "12    Italy      Milan     1350680  8799"
      ]
     },
     "execution_count": 24,
     "metadata": {},
     "output_type": "execute_result"
    }
   ],
   "source": [
    "#creating a new column\n",
    "cities ['Area']= [2712, 3344, 7847, 9848, 9667,4445, 9170, 9788, 1234, 9543, 7086, 6078, 8799]\n",
    "cities"
   ]
  },
  {
   "cell_type": "code",
   "execution_count": null,
   "id": "d833c7b2",
   "metadata": {},
   "outputs": [],
   "source": []
  },
  {
   "cell_type": "code",
   "execution_count": null,
   "id": "a04d15fd",
   "metadata": {},
   "outputs": [],
   "source": []
  }
 ],
 "metadata": {
  "kernelspec": {
   "display_name": "Python 3 (ipykernel)",
   "language": "python",
   "name": "python3"
  },
  "language_info": {
   "codemirror_mode": {
    "name": "ipython",
    "version": 3
   },
   "file_extension": ".py",
   "mimetype": "text/x-python",
   "name": "python",
   "nbconvert_exporter": "python",
   "pygments_lexer": "ipython3",
   "version": "3.10.9"
  }
 },
 "nbformat": 4,
 "nbformat_minor": 5
}
