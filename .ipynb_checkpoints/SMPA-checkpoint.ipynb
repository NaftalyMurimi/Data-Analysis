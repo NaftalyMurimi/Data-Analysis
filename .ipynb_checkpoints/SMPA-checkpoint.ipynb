{
 "cells": [
  {
   "cell_type": "markdown",
   "metadata": {},
   "source": [
    "#### Stock Market Performance Analysis using Python"
   ]
  },
  {
   "cell_type": "code",
   "execution_count": 2,
   "metadata": {},
   "outputs": [],
   "source": [
    "import pandas as pd\n",
    "import yfinance as yf\n",
    "from datetime import datetime\n"
   ]
  },
  {
   "cell_type": "code",
   "execution_count": 6,
   "metadata": {},
   "outputs": [
    {
     "name": "stdout",
     "output_type": "stream",
     "text": [
      "[*********************100%***********************]  1 of 1 completed\n",
      "[*********************100%***********************]  1 of 1 completed\n",
      "[*********************100%***********************]  1 of 1 completed\n",
      "[*********************100%***********************]  1 of 1 completed\n",
      "                         Open        High         Low       Close   Adj Close  \\\n",
      "Ticker Date                                                                     \n",
      "AAPL   2023-02-15  153.110001  155.500000  152.880005  155.330002  155.115448   \n",
      "       2023-02-16  153.509995  156.330002  153.350006  153.710007  153.497696   \n",
      "       2023-02-17  152.350006  153.000000  150.850006  152.550003  152.339294   \n",
      "       2023-02-21  150.199997  151.300003  148.410004  148.479996  148.274902   \n",
      "       2023-02-22  148.869995  149.949997  147.160004  148.910004  148.704315   \n",
      "\n",
      "                     Volume  \n",
      "Ticker Date                  \n",
      "AAPL   2023-02-15  65573800  \n",
      "       2023-02-16  68167900  \n",
      "       2023-02-17  59144100  \n",
      "       2023-02-21  58867200  \n",
      "       2023-02-22  51011300  \n"
     ]
    }
   ],
   "source": [
    "startDate = datetime.now() - pd. DateOffset(months=3)\n",
    "endDate = datetime.now()\n",
    "\n",
    "tickers = ['AAPL', 'MSFT', 'NFLX', 'GOOG']\n",
    "df_list = []\n",
    "\n",
    "for ticker in tickers:\n",
    "    data = yf.download(ticker, start=startDate, end = endDate)\n",
    "    df_list.append(data)\n",
    "\n",
    "df = pd.concat(df_list, keys= tickers, names= ['Ticker', 'Date'])\n",
    "print(df.head())"
   ]
  },
  {
   "cell_type": "code",
   "execution_count": null,
   "metadata": {},
   "outputs": [],
   "source": []
  }
 ],
 "metadata": {
  "kernelspec": {
   "display_name": "Python 3 (ipykernel)",
   "language": "python",
   "name": "python3"
  },
  "language_info": {
   "codemirror_mode": {
    "name": "ipython",
    "version": 3
   },
   "file_extension": ".py",
   "mimetype": "text/x-python",
   "name": "python",
   "nbconvert_exporter": "python",
   "pygments_lexer": "ipython3",
   "version": "3.10.9"
  }
 },
 "nbformat": 4,
 "nbformat_minor": 2
}
