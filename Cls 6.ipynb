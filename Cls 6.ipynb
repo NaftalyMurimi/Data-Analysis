{
 "cells": [
  {
   "cell_type": "markdown",
   "id": "e076db0e",
   "metadata": {},
   "source": [
    "# Accessing And Changing Values of  DataFrames"
   ]
  },
  {
   "cell_type": "raw",
   "id": "5aa67aad",
   "metadata": {},
   "source": [
    "For this purpose we will learn to know the methods loc ,at and replace"
   ]
  },
  {
   "cell_type": "code",
   "execution_count": 3,
   "id": "c009d5b0",
   "metadata": {},
   "outputs": [
    {
     "data": {
      "text/html": [
       "<div>\n",
       "<style scoped>\n",
       "    .dataframe tbody tr th:only-of-type {\n",
       "        vertical-align: middle;\n",
       "    }\n",
       "\n",
       "    .dataframe tbody tr th {\n",
       "        vertical-align: top;\n",
       "    }\n",
       "\n",
       "    .dataframe thead th {\n",
       "        text-align: right;\n",
       "    }\n",
       "</style>\n",
       "<table border=\"1\" class=\"dataframe\">\n",
       "  <thead>\n",
       "    <tr style=\"text-align: right;\">\n",
       "      <th></th>\n",
       "      <th>last</th>\n",
       "      <th>job</th>\n",
       "      <th>language</th>\n",
       "    </tr>\n",
       "  </thead>\n",
       "  <tbody>\n",
       "    <tr>\n",
       "      <th>Mike</th>\n",
       "      <td>Meyer</td>\n",
       "      <td>data analyst</td>\n",
       "      <td>Python</td>\n",
       "    </tr>\n",
       "    <tr>\n",
       "      <th>Naf</th>\n",
       "      <td>Maier</td>\n",
       "      <td>programmer</td>\n",
       "      <td>Perl</td>\n",
       "    </tr>\n",
       "    <tr>\n",
       "      <th>Tom</th>\n",
       "      <td>Meyer</td>\n",
       "      <td>computer scientist</td>\n",
       "      <td>Java</td>\n",
       "    </tr>\n",
       "    <tr>\n",
       "      <th>Bill</th>\n",
       "      <td>Mayer</td>\n",
       "      <td>data scientist</td>\n",
       "      <td>Java</td>\n",
       "    </tr>\n",
       "    <tr>\n",
       "      <th>Peter</th>\n",
       "      <td>Meyr</td>\n",
       "      <td>accountant</td>\n",
       "      <td>Cobol</td>\n",
       "    </tr>\n",
       "    <tr>\n",
       "      <th>Kate</th>\n",
       "      <td>Mair</td>\n",
       "      <td>psychiatrist</td>\n",
       "      <td>Ruby</td>\n",
       "    </tr>\n",
       "  </tbody>\n",
       "</table>\n",
       "</div>"
      ],
      "text/plain": [
       "        last                 job language\n",
       "Mike   Meyer        data analyst   Python\n",
       "Naf    Maier          programmer     Perl\n",
       "Tom    Meyer  computer scientist     Java\n",
       "Bill   Mayer      data scientist     Java\n",
       "Peter   Meyr          accountant    Cobol\n",
       "Kate    Mair        psychiatrist     Ruby"
      ]
     },
     "execution_count": 3,
     "metadata": {},
     "output_type": "execute_result"
    }
   ],
   "source": [
    "import pandas as pd\n",
    "first = ('Mike', 'Naf', 'Tom', 'Bill', 'Peter', 'Kate')\n",
    "last = ('Meyer', 'Maier', 'Meyer', 'Mayer', 'Meyr', 'Mair')\n",
    "job = ('data analyst', 'programmer', 'computer scientist','data scientist', 'accountant', 'psychiatrist')\n",
    "language = ('Python', 'Perl', 'Java', 'Java', 'Cobol', 'Ruby')\n",
    "df = pd.DataFrame(list(zip(last, job, language)),\n",
    "columns =['last', 'job', 'language'],index=first)\n",
    "df"
   ]
  },
  {
   "cell_type": "markdown",
   "id": "9b70562b",
   "metadata": {},
   "source": [
    "#### CHANGING ONE VALUE IN DATAFRAME"
   ]
  },
  {
   "cell_type": "raw",
   "id": "46cf867a",
   "metadata": {},
   "source": [
    "Pandas provides two ways, i.e. loc and at , to access or change a single value of a DataFrame"
   ]
  },
  {
   "cell_type": "code",
   "execution_count": 4,
   "id": "71fa34be",
   "metadata": {},
   "outputs": [
    {
     "name": "stdout",
     "output_type": "stream",
     "text": [
      "data scientist\n"
     ]
    },
    {
     "data": {
      "text/html": [
       "<div>\n",
       "<style scoped>\n",
       "    .dataframe tbody tr th:only-of-type {\n",
       "        vertical-align: middle;\n",
       "    }\n",
       "\n",
       "    .dataframe tbody tr th {\n",
       "        vertical-align: top;\n",
       "    }\n",
       "\n",
       "    .dataframe thead th {\n",
       "        text-align: right;\n",
       "    }\n",
       "</style>\n",
       "<table border=\"1\" class=\"dataframe\">\n",
       "  <thead>\n",
       "    <tr style=\"text-align: right;\">\n",
       "      <th></th>\n",
       "      <th>last</th>\n",
       "      <th>job</th>\n",
       "      <th>language</th>\n",
       "    </tr>\n",
       "  </thead>\n",
       "  <tbody>\n",
       "    <tr>\n",
       "      <th>Mike</th>\n",
       "      <td>Meyer</td>\n",
       "      <td>data analyst</td>\n",
       "      <td>Python</td>\n",
       "    </tr>\n",
       "    <tr>\n",
       "      <th>Naf</th>\n",
       "      <td>Maier</td>\n",
       "      <td>programmer</td>\n",
       "      <td>Perl</td>\n",
       "    </tr>\n",
       "    <tr>\n",
       "      <th>Tom</th>\n",
       "      <td>Meyer</td>\n",
       "      <td>computer scientist</td>\n",
       "      <td>Java</td>\n",
       "    </tr>\n",
       "    <tr>\n",
       "      <th>Bill</th>\n",
       "      <td>Mayer</td>\n",
       "      <td>data analyst</td>\n",
       "      <td>Java</td>\n",
       "    </tr>\n",
       "    <tr>\n",
       "      <th>Peter</th>\n",
       "      <td>Meyr</td>\n",
       "      <td>accountant</td>\n",
       "      <td>Cobol</td>\n",
       "    </tr>\n",
       "    <tr>\n",
       "      <th>Kate</th>\n",
       "      <td>Mair</td>\n",
       "      <td>psychiatrist</td>\n",
       "      <td>Ruby</td>\n",
       "    </tr>\n",
       "  </tbody>\n",
       "</table>\n",
       "</div>"
      ],
      "text/plain": [
       "        last                 job language\n",
       "Mike   Meyer        data analyst   Python\n",
       "Naf    Maier          programmer     Perl\n",
       "Tom    Meyer  computer scientist     Java\n",
       "Bill   Mayer        data analyst     Java\n",
       "Peter   Meyr          accountant    Cobol\n",
       "Kate    Mair        psychiatrist     Ruby"
      ]
     },
     "execution_count": 4,
     "metadata": {},
     "output_type": "execute_result"
    }
   ],
   "source": [
    "# accessing the job of Bill:\n",
    "print(df.loc['Bill', 'job'])\n",
    "# setting the job of Bill to 'data analyst' with 'loc'\n",
    "df.loc['Bill', 'job'] = 'data analyst'\n",
    "df"
   ]
  },
  {
   "cell_type": "code",
   "execution_count": 5,
   "id": "86c04ab7",
   "metadata": {},
   "outputs": [
    {
     "data": {
      "text/html": [
       "<div>\n",
       "<style scoped>\n",
       "    .dataframe tbody tr th:only-of-type {\n",
       "        vertical-align: middle;\n",
       "    }\n",
       "\n",
       "    .dataframe tbody tr th {\n",
       "        vertical-align: top;\n",
       "    }\n",
       "\n",
       "    .dataframe thead th {\n",
       "        text-align: right;\n",
       "    }\n",
       "</style>\n",
       "<table border=\"1\" class=\"dataframe\">\n",
       "  <thead>\n",
       "    <tr style=\"text-align: right;\">\n",
       "      <th></th>\n",
       "      <th>last</th>\n",
       "      <th>job</th>\n",
       "      <th>language</th>\n",
       "    </tr>\n",
       "  </thead>\n",
       "  <tbody>\n",
       "    <tr>\n",
       "      <th>Mike</th>\n",
       "      <td>Meyer</td>\n",
       "      <td>data analyst</td>\n",
       "      <td>Python</td>\n",
       "    </tr>\n",
       "    <tr>\n",
       "      <th>Naf</th>\n",
       "      <td>Maier</td>\n",
       "      <td>computer scientist</td>\n",
       "      <td>Perl</td>\n",
       "    </tr>\n",
       "    <tr>\n",
       "      <th>Tom</th>\n",
       "      <td>Meyer</td>\n",
       "      <td>computer scientist</td>\n",
       "      <td>Java</td>\n",
       "    </tr>\n",
       "    <tr>\n",
       "      <th>Bill</th>\n",
       "      <td>Mayer</td>\n",
       "      <td>data analyst</td>\n",
       "      <td>Java</td>\n",
       "    </tr>\n",
       "    <tr>\n",
       "      <th>Peter</th>\n",
       "      <td>Meyr</td>\n",
       "      <td>accountant</td>\n",
       "      <td>Cobol</td>\n",
       "    </tr>\n",
       "    <tr>\n",
       "      <th>Kate</th>\n",
       "      <td>Mair</td>\n",
       "      <td>psychiatrist</td>\n",
       "      <td>Ruby</td>\n",
       "    </tr>\n",
       "  </tbody>\n",
       "</table>\n",
       "</div>"
      ],
      "text/plain": [
       "        last                 job language\n",
       "Mike   Meyer        data analyst   Python\n",
       "Naf    Maier  computer scientist     Perl\n",
       "Tom    Meyer  computer scientist     Java\n",
       "Bill   Mayer        data analyst     Java\n",
       "Peter   Meyr          accountant    Cobol\n",
       "Kate    Mair        psychiatrist     Ruby"
      ]
     },
     "execution_count": 5,
     "metadata": {},
     "output_type": "execute_result"
    }
   ],
   "source": [
    "#use replace to change values of the dataframe\n",
    "df.replace(\"programmer\",\"computer scientist\",inplace=True)\n",
    "df"
   ]
  },
  {
   "cell_type": "markdown",
   "id": "e65cf9c0",
   "metadata": {},
   "source": [
    "#### THE METHOD PARAMETER OF REPLACE:"
   ]
  },
  {
   "cell_type": "raw",
   "id": "2f2e3108",
   "metadata": {},
   "source": [
    "When the parameter value is None and the parameter to_replace is a scalar, list or tuple, the method replace will use the parameter method to decide which replacement to perform. The possible values for method are pad , ffill , bfill , None . The default value is pad .\n",
    "\n",
    "First of all, you have to know that pad and ffill are equivalent.\n",
    "\n",
    "We will explain the way of working with the following Python example code. We will replace the value PSYCHIATRIST  of the following DataFrame in different ways by using the parameter method ."
   ]
  },
  {
   "cell_type": "code",
   "execution_count": 10,
   "id": "0ae20038",
   "metadata": {},
   "outputs": [
    {
     "data": {
      "text/html": [
       "<div>\n",
       "<style scoped>\n",
       "    .dataframe tbody tr th:only-of-type {\n",
       "        vertical-align: middle;\n",
       "    }\n",
       "\n",
       "    .dataframe tbody tr th {\n",
       "        vertical-align: top;\n",
       "    }\n",
       "\n",
       "    .dataframe thead th {\n",
       "        text-align: right;\n",
       "    }\n",
       "</style>\n",
       "<table border=\"1\" class=\"dataframe\">\n",
       "  <thead>\n",
       "    <tr style=\"text-align: right;\">\n",
       "      <th></th>\n",
       "      <th>last</th>\n",
       "      <th>job</th>\n",
       "      <th>language</th>\n",
       "    </tr>\n",
       "  </thead>\n",
       "  <tbody>\n",
       "    <tr>\n",
       "      <th>Mike</th>\n",
       "      <td>Meyer</td>\n",
       "      <td>data analyst</td>\n",
       "      <td>Python</td>\n",
       "    </tr>\n",
       "    <tr>\n",
       "      <th>Naf</th>\n",
       "      <td>Maier</td>\n",
       "      <td>data analyst</td>\n",
       "      <td>Perl</td>\n",
       "    </tr>\n",
       "    <tr>\n",
       "      <th>Tom</th>\n",
       "      <td>Meyer</td>\n",
       "      <td>data analyst</td>\n",
       "      <td>Java</td>\n",
       "    </tr>\n",
       "    <tr>\n",
       "      <th>Bill</th>\n",
       "      <td>Mayer</td>\n",
       "      <td>data analyst</td>\n",
       "      <td>Java</td>\n",
       "    </tr>\n",
       "    <tr>\n",
       "      <th>Peter</th>\n",
       "      <td>Meyr</td>\n",
       "      <td>accountant</td>\n",
       "      <td>Cobol</td>\n",
       "    </tr>\n",
       "    <tr>\n",
       "      <th>Kate</th>\n",
       "      <td>Mair</td>\n",
       "      <td>psychiatrist</td>\n",
       "      <td>Ruby</td>\n",
       "    </tr>\n",
       "  </tbody>\n",
       "</table>\n",
       "</div>"
      ],
      "text/plain": [
       "        last           job language\n",
       "Mike   Meyer  data analyst   Python\n",
       "Naf    Maier  data analyst     Perl\n",
       "Tom    Meyer  data analyst     Java\n",
       "Bill   Mayer  data analyst     Java\n",
       "Peter   Meyr    accountant    Cobol\n",
       "Kate    Mair  psychiatrist     Ruby"
      ]
     },
     "execution_count": 10,
     "metadata": {},
     "output_type": "execute_result"
    }
   ],
   "source": [
    "df.replace(to_replace='computer scientist', value=None, method='ffill')\n"
   ]
  },
  {
   "cell_type": "code",
   "execution_count": 12,
   "id": "055a85d1",
   "metadata": {},
   "outputs": [
    {
     "data": {
      "text/html": [
       "<div>\n",
       "<style scoped>\n",
       "    .dataframe tbody tr th:only-of-type {\n",
       "        vertical-align: middle;\n",
       "    }\n",
       "\n",
       "    .dataframe tbody tr th {\n",
       "        vertical-align: top;\n",
       "    }\n",
       "\n",
       "    .dataframe thead th {\n",
       "        text-align: right;\n",
       "    }\n",
       "</style>\n",
       "<table border=\"1\" class=\"dataframe\">\n",
       "  <thead>\n",
       "    <tr style=\"text-align: right;\">\n",
       "      <th></th>\n",
       "      <th>last</th>\n",
       "      <th>job</th>\n",
       "      <th>language</th>\n",
       "    </tr>\n",
       "  </thead>\n",
       "  <tbody>\n",
       "    <tr>\n",
       "      <th>Mike</th>\n",
       "      <td>Meyer</td>\n",
       "      <td>data analyst</td>\n",
       "      <td>Python</td>\n",
       "    </tr>\n",
       "    <tr>\n",
       "      <th>Naf</th>\n",
       "      <td>Maier</td>\n",
       "      <td>computer scientist</td>\n",
       "      <td>Perl</td>\n",
       "    </tr>\n",
       "    <tr>\n",
       "      <th>Tom</th>\n",
       "      <td>Meyer</td>\n",
       "      <td>computer scientist</td>\n",
       "      <td>Java</td>\n",
       "    </tr>\n",
       "    <tr>\n",
       "      <th>Bill</th>\n",
       "      <td>Mayer</td>\n",
       "      <td>data analyst</td>\n",
       "      <td>Java</td>\n",
       "    </tr>\n",
       "    <tr>\n",
       "      <th>Peter</th>\n",
       "      <td>Meyr</td>\n",
       "      <td>accountant</td>\n",
       "      <td>Cobol</td>\n",
       "    </tr>\n",
       "    <tr>\n",
       "      <th>Kate</th>\n",
       "      <td>Mair</td>\n",
       "      <td>accountant</td>\n",
       "      <td>Ruby</td>\n",
       "    </tr>\n",
       "  </tbody>\n",
       "</table>\n",
       "</div>"
      ],
      "text/plain": [
       "        last                 job language\n",
       "Mike   Meyer        data analyst   Python\n",
       "Naf    Maier  computer scientist     Perl\n",
       "Tom    Meyer  computer scientist     Java\n",
       "Bill   Mayer        data analyst     Java\n",
       "Peter   Meyr          accountant    Cobol\n",
       "Kate    Mair          accountant     Ruby"
      ]
     },
     "execution_count": 12,
     "metadata": {},
     "output_type": "execute_result"
    }
   ],
   "source": [
    "df.replace(to_replace='psychiatrist', value=None, method='ffill', inplace=True)\n",
    "df"
   ]
  },
  {
   "cell_type": "markdown",
   "id": "ed2036f6",
   "metadata": {},
   "source": [
    "# GroupBY"
   ]
  },
  {
   "cell_type": "raw",
   "id": "6fb7fd99",
   "metadata": {},
   "source": [
    "The\n",
    "Pandas groupby operation involves some combination\n",
    "of splitting the object, applying a function, and combining\n",
    "the results. We can split a DataFrame object into groups\n",
    "based on various criteria and row and column-wise, i.e.\n",
    "using axis .\n",
    "'Applying' means\n",
    "• to filter the data,\n",
    "• transform the data or\n",
    "• aggregate the data.\n",
    "groupby can be applied to Pandas Series objects and\n",
    "DataFrame objects! "
   ]
  },
  {
   "cell_type": "code",
   "execution_count": 17,
   "id": "4f34fbda",
   "metadata": {},
   "outputs": [
    {
     "name": "stdout",
     "output_type": "stream",
     "text": [
      "cherries        8\n",
      "oranges        15\n",
      "apples         16\n",
      "cherries       12\n",
      "bananas         1\n",
      "cherries       13\n",
      "oranges         1\n",
      "bananas         3\n",
      "oranges         4\n",
      "clementines     3\n",
      "dtype: int32\n"
     ]
    }
   ],
   "source": [
    "import pandas as pd\n",
    "import numpy as np\n",
    "import random\n",
    "\n",
    "nvalues = 30\n",
    "values = np.random.randint(1,20, (nvalues))\n",
    "fruits = [\"bananas\", \"oranges\", \"apples\", \"clementines\", \"cherries\", \"pears\"]\n",
    "fruits_index = np.random.choice(fruits, (nvalues,))\n",
    "s = pd.Series(values, index=fruits_index)\n",
    "print(s[:10])"
   ]
  },
  {
   "cell_type": "code",
   "execution_count": 18,
   "id": "769ea2cf",
   "metadata": {},
   "outputs": [
    {
     "data": {
      "text/plain": [
       "<pandas.core.groupby.generic.SeriesGroupBy object at 0x00000188BE9F1FF0>"
      ]
     },
     "execution_count": 18,
     "metadata": {},
     "output_type": "execute_result"
    }
   ],
   "source": [
    "grouped = s.groupby(s.index)\n",
    "grouped"
   ]
  },
  {
   "cell_type": "code",
   "execution_count": 24,
   "id": "bc0f0fc2",
   "metadata": {},
   "outputs": [
    {
     "name": "stdout",
     "output_type": "stream",
     "text": [
      "<<< apples>>>\n",
      "apples    16\n",
      "apples     9\n",
      "dtype: int32\n",
      "<<< bananas>>>\n",
      "bananas     1\n",
      "bananas     3\n",
      "bananas     2\n",
      "bananas     1\n",
      "bananas    14\n",
      "dtype: int32\n",
      "<<< cherries>>>\n",
      "cherries     8\n",
      "cherries    12\n",
      "cherries    13\n",
      "cherries     5\n",
      "cherries    13\n",
      "cherries    12\n",
      "dtype: int32\n",
      "<<< clementines>>>\n",
      "clementines     3\n",
      "clementines    17\n",
      "clementines     1\n",
      "clementines     9\n",
      "clementines     9\n",
      "clementines     4\n",
      "clementines    10\n",
      "dtype: int32\n",
      "<<< oranges>>>\n",
      "oranges    15\n",
      "oranges     1\n",
      "oranges     4\n",
      "oranges    11\n",
      "oranges     6\n",
      "dtype: int32\n",
      "<<< pears>>>\n",
      "pears     4\n",
      "pears    12\n",
      "pears     1\n",
      "pears     1\n",
      "pears    13\n",
      "dtype: int32\n"
     ]
    }
   ],
   "source": [
    "grouped = s.groupby(s.index)\n",
    "for fruit, s_obj in grouped:\n",
    "    print(f\"<<< {fruit}>>>\")\n",
    "    print(s_obj)"
   ]
  },
  {
   "cell_type": "markdown",
   "id": "db67b13c",
   "metadata": {},
   "source": [
    "###  GROUPBY WITH DATAFRAMES"
   ]
  },
  {
   "cell_type": "raw",
   "id": "361b1fa2",
   "metadata": {},
   "source": [
    ". The DataFRame has two columns one containing names Name and the other one Coffee contains integers which are the number of cups of coffee the person drank."
   ]
  },
  {
   "cell_type": "code",
   "execution_count": 33,
   "id": "861997a3",
   "metadata": {},
   "outputs": [
    {
     "data": {
      "text/html": [
       "<div>\n",
       "<style scoped>\n",
       "    .dataframe tbody tr th:only-of-type {\n",
       "        vertical-align: middle;\n",
       "    }\n",
       "\n",
       "    .dataframe tbody tr th {\n",
       "        vertical-align: top;\n",
       "    }\n",
       "\n",
       "    .dataframe thead th {\n",
       "        text-align: right;\n",
       "    }\n",
       "</style>\n",
       "<table border=\"1\" class=\"dataframe\">\n",
       "  <thead>\n",
       "    <tr style=\"text-align: right;\">\n",
       "      <th></th>\n",
       "      <th>Name</th>\n",
       "      <th>Coffee</th>\n",
       "      <th>Tea</th>\n",
       "    </tr>\n",
       "  </thead>\n",
       "  <tbody>\n",
       "    <tr>\n",
       "      <th>0</th>\n",
       "      <td>Robert</td>\n",
       "      <td>3</td>\n",
       "      <td>0</td>\n",
       "    </tr>\n",
       "    <tr>\n",
       "      <th>1</th>\n",
       "      <td>Melinda</td>\n",
       "      <td>0</td>\n",
       "      <td>4</td>\n",
       "    </tr>\n",
       "    <tr>\n",
       "      <th>2</th>\n",
       "      <td>Brenda</td>\n",
       "      <td>2</td>\n",
       "      <td>2</td>\n",
       "    </tr>\n",
       "    <tr>\n",
       "      <th>3</th>\n",
       "      <td>Samantha</td>\n",
       "      <td>2</td>\n",
       "      <td>0</td>\n",
       "    </tr>\n",
       "    <tr>\n",
       "      <th>4</th>\n",
       "      <td>Melinda</td>\n",
       "      <td>0</td>\n",
       "      <td>3</td>\n",
       "    </tr>\n",
       "    <tr>\n",
       "      <th>5</th>\n",
       "      <td>Robert</td>\n",
       "      <td>2</td>\n",
       "      <td>0</td>\n",
       "    </tr>\n",
       "    <tr>\n",
       "      <th>6</th>\n",
       "      <td>Melinda</td>\n",
       "      <td>0</td>\n",
       "      <td>3</td>\n",
       "    </tr>\n",
       "    <tr>\n",
       "      <th>7</th>\n",
       "      <td>Brenda</td>\n",
       "      <td>1</td>\n",
       "      <td>2</td>\n",
       "    </tr>\n",
       "    <tr>\n",
       "      <th>8</th>\n",
       "      <td>Samantha</td>\n",
       "      <td>3</td>\n",
       "      <td>0</td>\n",
       "    </tr>\n",
       "  </tbody>\n",
       "</table>\n",
       "</div>"
      ],
      "text/plain": [
       "       Name  Coffee  Tea\n",
       "0    Robert       3    0\n",
       "1   Melinda       0    4\n",
       "2    Brenda       2    2\n",
       "3  Samantha       2    0\n",
       "4   Melinda       0    3\n",
       "5    Robert       2    0\n",
       "6   Melinda       0    3\n",
       "7    Brenda       1    2\n",
       "8  Samantha       3    0"
      ]
     },
     "execution_count": 33,
     "metadata": {},
     "output_type": "execute_result"
    }
   ],
   "source": [
    "import pandas as pd\n",
    "Beverages = pd.DataFrame({'Name': ['Robert', 'Melinda', 'Brenda','Samantha', \n",
    "                                   'Melinda', 'Robert','Melinda', 'Brenda', 'Samantha'],\n",
    "                                'Coffee': [3, 0, 2, 2, 0, 2, 0, 1, 3],\n",
    "                          'Tea': [0, 4, 2, 0, 3, 0, 3, 2, 0]})\n",
    "\n",
    "Beverages"
   ]
  },
  {
   "cell_type": "raw",
   "id": "b54fecfe",
   "metadata": {},
   "source": [
    "We can see that some of the names appear multiple times. So it will be very interesting to see how many cups of coffee and tea each person drank in total. That means we are applying 'groupby' to the 'Name' column. Thereby we split the DatFrame. Then we apply 'sum' to the results of 'groupby':"
   ]
  },
  {
   "cell_type": "code",
   "execution_count": 35,
   "id": "80715d0d",
   "metadata": {},
   "outputs": [
    {
     "data": {
      "text/html": [
       "<div>\n",
       "<style scoped>\n",
       "    .dataframe tbody tr th:only-of-type {\n",
       "        vertical-align: middle;\n",
       "    }\n",
       "\n",
       "    .dataframe tbody tr th {\n",
       "        vertical-align: top;\n",
       "    }\n",
       "\n",
       "    .dataframe thead th {\n",
       "        text-align: right;\n",
       "    }\n",
       "</style>\n",
       "<table border=\"1\" class=\"dataframe\">\n",
       "  <thead>\n",
       "    <tr style=\"text-align: right;\">\n",
       "      <th></th>\n",
       "      <th>Coffee</th>\n",
       "      <th>Tea</th>\n",
       "    </tr>\n",
       "    <tr>\n",
       "      <th>Name</th>\n",
       "      <th></th>\n",
       "      <th></th>\n",
       "    </tr>\n",
       "  </thead>\n",
       "  <tbody>\n",
       "    <tr>\n",
       "      <th>Brenda</th>\n",
       "      <td>3</td>\n",
       "      <td>4</td>\n",
       "    </tr>\n",
       "    <tr>\n",
       "      <th>Melinda</th>\n",
       "      <td>0</td>\n",
       "      <td>10</td>\n",
       "    </tr>\n",
       "    <tr>\n",
       "      <th>Robert</th>\n",
       "      <td>5</td>\n",
       "      <td>0</td>\n",
       "    </tr>\n",
       "    <tr>\n",
       "      <th>Samantha</th>\n",
       "      <td>5</td>\n",
       "      <td>0</td>\n",
       "    </tr>\n",
       "  </tbody>\n",
       "</table>\n",
       "</div>"
      ],
      "text/plain": [
       "          Coffee  Tea\n",
       "Name                 \n",
       "Brenda         3    4\n",
       "Melinda        0   10\n",
       "Robert         5    0\n",
       "Samantha       5    0"
      ]
     },
     "execution_count": 35,
     "metadata": {},
     "output_type": "execute_result"
    }
   ],
   "source": [
    "results=Beverages.groupby([\"Name\"]).sum()\n",
    "results"
   ]
  },
  {
   "cell_type": "markdown",
   "id": "c8549b9a",
   "metadata": {},
   "source": [
    "##### QUESTIONS"
   ]
  },
  {
   "cell_type": "code",
   "execution_count": 36,
   "id": "2b761f24",
   "metadata": {},
   "outputs": [
    {
     "data": {
      "text/html": [
       "<div>\n",
       "<style scoped>\n",
       "    .dataframe tbody tr th:only-of-type {\n",
       "        vertical-align: middle;\n",
       "    }\n",
       "\n",
       "    .dataframe tbody tr th {\n",
       "        vertical-align: top;\n",
       "    }\n",
       "\n",
       "    .dataframe thead th {\n",
       "        text-align: right;\n",
       "    }\n",
       "</style>\n",
       "<table border=\"1\" class=\"dataframe\">\n",
       "  <thead>\n",
       "    <tr style=\"text-align: right;\">\n",
       "      <th></th>\n",
       "      <th>products</th>\n",
       "      <th>colours</th>\n",
       "      <th>customer_price</th>\n",
       "      <th>non_customer_price</th>\n",
       "    </tr>\n",
       "  </thead>\n",
       "  <tbody>\n",
       "    <tr>\n",
       "      <th>0</th>\n",
       "      <td>Oppilume</td>\n",
       "      <td>blue</td>\n",
       "      <td>2345.89</td>\n",
       "      <td>2445.89</td>\n",
       "    </tr>\n",
       "    <tr>\n",
       "      <th>1</th>\n",
       "      <td>Dreaker</td>\n",
       "      <td>blue</td>\n",
       "      <td>2390.50</td>\n",
       "      <td>2495.50</td>\n",
       "    </tr>\n",
       "    <tr>\n",
       "      <th>2</th>\n",
       "      <td>Lotadilo</td>\n",
       "      <td>blue</td>\n",
       "      <td>1820.00</td>\n",
       "      <td>1980.00</td>\n",
       "    </tr>\n",
       "    <tr>\n",
       "      <th>3</th>\n",
       "      <td>Crosteron</td>\n",
       "      <td>green</td>\n",
       "      <td>3100.00</td>\n",
       "      <td>3400.00</td>\n",
       "    </tr>\n",
       "    <tr>\n",
       "      <th>4</th>\n",
       "      <td>Wazzasoft</td>\n",
       "      <td>blue</td>\n",
       "      <td>1784.50</td>\n",
       "      <td>1921.00</td>\n",
       "    </tr>\n",
       "    <tr>\n",
       "      <th>5</th>\n",
       "      <td>Oppilume</td>\n",
       "      <td>green</td>\n",
       "      <td>2545.89</td>\n",
       "      <td>2645.89</td>\n",
       "    </tr>\n",
       "    <tr>\n",
       "      <th>6</th>\n",
       "      <td>Dreaker</td>\n",
       "      <td>green</td>\n",
       "      <td>2590.50</td>\n",
       "      <td>2655.50</td>\n",
       "    </tr>\n",
       "    <tr>\n",
       "      <th>7</th>\n",
       "      <td>Lotadilo</td>\n",
       "      <td>green</td>\n",
       "      <td>2220.00</td>\n",
       "      <td>2140.00</td>\n",
       "    </tr>\n",
       "    <tr>\n",
       "      <th>8</th>\n",
       "      <td>Wazzasoft</td>\n",
       "      <td>red</td>\n",
       "      <td>2084.50</td>\n",
       "      <td>2190.00</td>\n",
       "    </tr>\n",
       "  </tbody>\n",
       "</table>\n",
       "</div>"
      ],
      "text/plain": [
       "    products colours  customer_price  non_customer_price\n",
       "0   Oppilume    blue         2345.89             2445.89\n",
       "1    Dreaker    blue         2390.50             2495.50\n",
       "2   Lotadilo    blue         1820.00             1980.00\n",
       "3  Crosteron   green         3100.00             3400.00\n",
       "4  Wazzasoft    blue         1784.50             1921.00\n",
       "5   Oppilume   green         2545.89             2645.89\n",
       "6    Dreaker   green         2590.50             2655.50\n",
       "7   Lotadilo   green         2220.00             2140.00\n",
       "8  Wazzasoft     red         2084.50             2190.00"
      ]
     },
     "execution_count": 36,
     "metadata": {},
     "output_type": "execute_result"
    }
   ],
   "source": [
    "import pandas as pd\n",
    "d = {\"products\": [\"Oppilume\", \"Dreaker\", \"Lotadilo\",\n",
    "\"Crosteron\", \"Wazzasoft\", \"Oppilume\",\n",
    "\"Dreaker\", \"Lotadilo\", \"Wazzasoft\"],\n",
    "\"colours\": [\"blue\", \"blue\", \"blue\",\n",
    "\"green\", \"blue\", \"green\",\n",
    "\"green\", \"green\", \"red\"],\n",
    "\"customer_price\": [2345.89, 2390.50, 1820.00, 3100.00, 1784.50, 2545.89, 2590.50, 2220.00, 2084.50],\n",
    "\"non_customer_price\": [2445.89, 2495.50, 1980.00, 3400.00, 1921.00, 2645.89, 2655.50, 2140.00, 2190.00]}\n",
    "product_prices = pd.DataFrame(d)\n",
    "product_prices"
   ]
  },
  {
   "cell_type": "markdown",
   "id": "95fe9d1e",
   "metadata": {},
   "source": [
    "### TAST 1 \n",
    "Calculate the average prices of the products of the ABOVE DataFrame:"
   ]
  },
  {
   "cell_type": "code",
   "execution_count": 39,
   "id": "616f55ed",
   "metadata": {},
   "outputs": [
    {
     "name": "stderr",
     "output_type": "stream",
     "text": [
      "C:\\Users\\DELL\\AppData\\Local\\Temp\\ipykernel_13304\\1736219729.py:1: FutureWarning: The default value of numeric_only in DataFrameGroupBy.mean is deprecated. In a future version, numeric_only will default to False. Either specify numeric_only or select only columns which should be valid for the function.\n",
      "  avrg = product_prices.groupby(['products']).mean()\n"
     ]
    },
    {
     "data": {
      "text/html": [
       "<div>\n",
       "<style scoped>\n",
       "    .dataframe tbody tr th:only-of-type {\n",
       "        vertical-align: middle;\n",
       "    }\n",
       "\n",
       "    .dataframe tbody tr th {\n",
       "        vertical-align: top;\n",
       "    }\n",
       "\n",
       "    .dataframe thead th {\n",
       "        text-align: right;\n",
       "    }\n",
       "</style>\n",
       "<table border=\"1\" class=\"dataframe\">\n",
       "  <thead>\n",
       "    <tr style=\"text-align: right;\">\n",
       "      <th></th>\n",
       "      <th>customer_price</th>\n",
       "      <th>non_customer_price</th>\n",
       "    </tr>\n",
       "    <tr>\n",
       "      <th>products</th>\n",
       "      <th></th>\n",
       "      <th></th>\n",
       "    </tr>\n",
       "  </thead>\n",
       "  <tbody>\n",
       "    <tr>\n",
       "      <th>Crosteron</th>\n",
       "      <td>3100.00</td>\n",
       "      <td>3400.00</td>\n",
       "    </tr>\n",
       "    <tr>\n",
       "      <th>Dreaker</th>\n",
       "      <td>2490.50</td>\n",
       "      <td>2575.50</td>\n",
       "    </tr>\n",
       "    <tr>\n",
       "      <th>Lotadilo</th>\n",
       "      <td>2020.00</td>\n",
       "      <td>2060.00</td>\n",
       "    </tr>\n",
       "    <tr>\n",
       "      <th>Oppilume</th>\n",
       "      <td>2445.89</td>\n",
       "      <td>2545.89</td>\n",
       "    </tr>\n",
       "    <tr>\n",
       "      <th>Wazzasoft</th>\n",
       "      <td>1934.50</td>\n",
       "      <td>2055.50</td>\n",
       "    </tr>\n",
       "  </tbody>\n",
       "</table>\n",
       "</div>"
      ],
      "text/plain": [
       "           customer_price  non_customer_price\n",
       "products                                     \n",
       "Crosteron         3100.00             3400.00\n",
       "Dreaker           2490.50             2575.50\n",
       "Lotadilo          2020.00             2060.00\n",
       "Oppilume          2445.89             2545.89\n",
       "Wazzasoft         1934.50             2055.50"
      ]
     },
     "execution_count": 39,
     "metadata": {},
     "output_type": "execute_result"
    }
   ],
   "source": [
    "avrg = product_prices.groupby(['products']).mean()\n",
    "avrg"
   ]
  },
  {
   "cell_type": "markdown",
   "id": "3c14f070",
   "metadata": {},
   "source": [
    "### TAST 2\n",
    "Calculate the sum of the price according to the colours."
   ]
  },
  {
   "cell_type": "code",
   "execution_count": 41,
   "id": "d9df2e96",
   "metadata": {},
   "outputs": [
    {
     "name": "stderr",
     "output_type": "stream",
     "text": [
      "C:\\Users\\DELL\\AppData\\Local\\Temp\\ipykernel_13304\\1707591673.py:1: FutureWarning: The default value of numeric_only in DataFrameGroupBy.sum is deprecated. In a future version, numeric_only will default to False. Either specify numeric_only or select only columns which should be valid for the function.\n",
      "  Y = product_prices.groupby(['colours']).sum()\n"
     ]
    },
    {
     "data": {
      "text/html": [
       "<div>\n",
       "<style scoped>\n",
       "    .dataframe tbody tr th:only-of-type {\n",
       "        vertical-align: middle;\n",
       "    }\n",
       "\n",
       "    .dataframe tbody tr th {\n",
       "        vertical-align: top;\n",
       "    }\n",
       "\n",
       "    .dataframe thead th {\n",
       "        text-align: right;\n",
       "    }\n",
       "</style>\n",
       "<table border=\"1\" class=\"dataframe\">\n",
       "  <thead>\n",
       "    <tr style=\"text-align: right;\">\n",
       "      <th></th>\n",
       "      <th>customer_price</th>\n",
       "      <th>non_customer_price</th>\n",
       "    </tr>\n",
       "    <tr>\n",
       "      <th>colours</th>\n",
       "      <th></th>\n",
       "      <th></th>\n",
       "    </tr>\n",
       "  </thead>\n",
       "  <tbody>\n",
       "    <tr>\n",
       "      <th>blue</th>\n",
       "      <td>8340.89</td>\n",
       "      <td>8842.39</td>\n",
       "    </tr>\n",
       "    <tr>\n",
       "      <th>green</th>\n",
       "      <td>10456.39</td>\n",
       "      <td>10841.39</td>\n",
       "    </tr>\n",
       "    <tr>\n",
       "      <th>red</th>\n",
       "      <td>2084.50</td>\n",
       "      <td>2190.00</td>\n",
       "    </tr>\n",
       "  </tbody>\n",
       "</table>\n",
       "</div>"
      ],
      "text/plain": [
       "         customer_price  non_customer_price\n",
       "colours                                    \n",
       "blue            8340.89             8842.39\n",
       "green          10456.39            10841.39\n",
       "red             2084.50             2190.00"
      ]
     },
     "execution_count": 41,
     "metadata": {},
     "output_type": "execute_result"
    }
   ],
   "source": [
    "Y = product_prices.groupby(['colours']).sum()\n",
    "Y"
   ]
  },
  {
   "cell_type": "markdown",
   "id": "fdeea085",
   "metadata": {},
   "source": [
    "#### TASK 3\n"
   ]
  },
  {
   "cell_type": "code",
   "execution_count": null,
   "id": "c9e80bfe",
   "metadata": {},
   "outputs": [],
   "source": []
  }
 ],
 "metadata": {
  "kernelspec": {
   "display_name": "Python 3 (ipykernel)",
   "language": "python",
   "name": "python3"
  },
  "language_info": {
   "codemirror_mode": {
    "name": "ipython",
    "version": 3
   },
   "file_extension": ".py",
   "mimetype": "text/x-python",
   "name": "python",
   "nbconvert_exporter": "python",
   "pygments_lexer": "ipython3",
   "version": "3.10.9"
  }
 },
 "nbformat": 4,
 "nbformat_minor": 5
}
